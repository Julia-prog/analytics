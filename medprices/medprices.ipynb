{
 "cells": [
  {
   "cell_type": "markdown",
   "id": "a5efe636",
   "metadata": {},
   "source": [
    "# Проект: “Аналитика данных медицинского центра”\n",
    "----\n",
    "\n",
    "## Содержание <a class=\"anchor\" id=\"sod\"></a> \n",
    "\n",
    "### [Шаг 1. Введение и загрузка данных](#sh1)\n",
    "### [Шаг 2. Предварительный анализ данных (EDA)](#sh2)\n",
    "### [Шаг 3. Исследовательский анализ данных](#sh3)\n",
    "### [Шаг 4. Выводы](#sh4)\n",
    "\n",
    "### Шаг 1. Введение и загрузка данных\n",
    "\n",
    "В рамках проекта поработаем с реальными сырыми данными от одного медицинского центра.\n",
    "\n",
    "#### Цель проекта: Произвести анализ изменения цены лечения в медицинской клинике в 2022 году относительно 2021 года с целью определить ключевые драйверы изменения цены лечения.\n",
    "\n",
    "#### Описание данных:\n",
    "- record_id - уникальный идентификатор строки данных;\n",
    "- service_date - дата оказания медицинской услуги;\n",
    "- service_name - наименование медицинской услуги;\n",
    "- service_number - количество услуг;\n",
    "- service_amount - сумма выплат (стоимость оказанных услуг в рублях);\n",
    "- insured - уникальный идентификатор пациента;\n",
    "- sex_id - пол пациента;\n",
    "- age_for_service_date - возраст пациента.\n"
   ]
  },
  {
   "cell_type": "code",
   "execution_count": 1,
   "id": "366e01e6",
   "metadata": {},
   "outputs": [],
   "source": [
    "# загрузка необходимых библиотек\n",
    "import pandas as pd\n",
    "import seaborn as sns\n",
    "from matplotlib import pyplot as plt\n",
    "import numpy as np\n",
    "import datetime\n",
    "import plotly.express as px\n",
    "from plotly import graph_objects as go\n",
    "import seaborn as sns\n",
    "\n",
    "from scipy import stats as st\n",
    "import math as mth\n",
    "\n",
    "\n",
    "import pathlib\n",
    "from pathlib import Path\n",
    "\n",
    "# Вывод всех операций в ячейках\n",
    "from IPython.core.interactiveshell import InteractiveShell\n",
    "InteractiveShell.ast_node_interactivity = \"all\"\n",
    "# Прячем придупреждения \n",
    "import warnings\n",
    "warnings.filterwarnings('ignore')\n",
    "# Изменяем формат демонстрации чисел для лучшего восприятия\n",
    "pd.options.display.float_format = '{:,.2f}'.format"
   ]
  },
  {
   "cell_type": "code",
   "execution_count": 2,
   "id": "f30c3a8d",
   "metadata": {},
   "outputs": [
    {
     "data": {
      "text/html": [
       "<div>\n",
       "<style scoped>\n",
       "    .dataframe tbody tr th:only-of-type {\n",
       "        vertical-align: middle;\n",
       "    }\n",
       "\n",
       "    .dataframe tbody tr th {\n",
       "        vertical-align: top;\n",
       "    }\n",
       "\n",
       "    .dataframe thead th {\n",
       "        text-align: right;\n",
       "    }\n",
       "</style>\n",
       "<table border=\"1\" class=\"dataframe\">\n",
       "  <thead>\n",
       "    <tr style=\"text-align: right;\">\n",
       "      <th></th>\n",
       "      <th>record_id</th>\n",
       "      <th>service_date</th>\n",
       "      <th>service_name</th>\n",
       "      <th>service_amount</th>\n",
       "      <th>service_number</th>\n",
       "      <th>insured</th>\n",
       "      <th>sex_id</th>\n",
       "      <th>age_for_service_date</th>\n",
       "    </tr>\n",
       "  </thead>\n",
       "  <tbody>\n",
       "    <tr>\n",
       "      <th>0</th>\n",
       "      <td>30268157003</td>\n",
       "      <td>2021-01-24</td>\n",
       "      <td>Прием первичный</td>\n",
       "      <td>1470</td>\n",
       "      <td>1</td>\n",
       "      <td>490777</td>\n",
       "      <td>2.00</td>\n",
       "      <td>26</td>\n",
       "    </tr>\n",
       "    <tr>\n",
       "      <th>1</th>\n",
       "      <td>30268157103</td>\n",
       "      <td>2021-01-24</td>\n",
       "      <td>Взятие материала на посев, цитологическое иссл...</td>\n",
       "      <td>284</td>\n",
       "      <td>1</td>\n",
       "      <td>490777</td>\n",
       "      <td>2.00</td>\n",
       "      <td>26</td>\n",
       "    </tr>\n",
       "    <tr>\n",
       "      <th>2</th>\n",
       "      <td>30268157203</td>\n",
       "      <td>2021-01-24</td>\n",
       "      <td>Посев отдел, дыхательных путей - слизистая зев...</td>\n",
       "      <td>1134</td>\n",
       "      <td>1</td>\n",
       "      <td>490777</td>\n",
       "      <td>2.00</td>\n",
       "      <td>26</td>\n",
       "    </tr>\n",
       "    <tr>\n",
       "      <th>3</th>\n",
       "      <td>30268157303</td>\n",
       "      <td>2021-01-24</td>\n",
       "      <td>Общий анализ крови (лейкоцитарная форм,, СОЭ)</td>\n",
       "      <td>693</td>\n",
       "      <td>1</td>\n",
       "      <td>490777</td>\n",
       "      <td>2.00</td>\n",
       "      <td>26</td>\n",
       "    </tr>\n",
       "    <tr>\n",
       "      <th>4</th>\n",
       "      <td>30268157403</td>\n",
       "      <td>2021-01-24</td>\n",
       "      <td>Ревматоидный фактор</td>\n",
       "      <td>420</td>\n",
       "      <td>1</td>\n",
       "      <td>490777</td>\n",
       "      <td>2.00</td>\n",
       "      <td>26</td>\n",
       "    </tr>\n",
       "  </tbody>\n",
       "</table>\n",
       "</div>"
      ],
      "text/plain": [
       "     record_id service_date  \\\n",
       "0  30268157003   2021-01-24   \n",
       "1  30268157103   2021-01-24   \n",
       "2  30268157203   2021-01-24   \n",
       "3  30268157303   2021-01-24   \n",
       "4  30268157403   2021-01-24   \n",
       "\n",
       "                                        service_name  service_amount  \\\n",
       "0                                    Прием первичный            1470   \n",
       "1  Взятие материала на посев, цитологическое иссл...             284   \n",
       "2  Посев отдел, дыхательных путей - слизистая зев...            1134   \n",
       "3      Общий анализ крови (лейкоцитарная форм,, СОЭ)             693   \n",
       "4                                Ревматоидный фактор             420   \n",
       "\n",
       "   service_number  insured  sex_id  age_for_service_date  \n",
       "0               1   490777    2.00                    26  \n",
       "1               1   490777    2.00                    26  \n",
       "2               1   490777    2.00                    26  \n",
       "3               1   490777    2.00                    26  \n",
       "4               1   490777    2.00                    26  "
      ]
     },
     "execution_count": 2,
     "metadata": {},
     "output_type": "execute_result"
    }
   ],
   "source": [
    "# загрузка данных\n",
    "df = pd.read_excel('data_test_task_2022.xlsx')\n",
    "df.head()"
   ]
  },
  {
   "cell_type": "markdown",
   "id": "63f2c7a0",
   "metadata": {},
   "source": [
    "#### Данные загружены"
   ]
  },
  {
   "cell_type": "markdown",
   "id": "35ad7bb0",
   "metadata": {},
   "source": [
    "### Шаг 2. Предварительный анализ данных (EDA) <a class=\"anchor\" id=\"sh2\"></a> "
   ]
  },
  {
   "cell_type": "markdown",
   "id": "288ae1c8",
   "metadata": {},
   "source": [
    "#### 2.1. Подготовка данныx, оценка их целостности"
   ]
  },
  {
   "cell_type": "code",
   "execution_count": 3,
   "id": "b7b190a9",
   "metadata": {},
   "outputs": [
    {
     "name": "stdout",
     "output_type": "stream",
     "text": [
      "Представлен дата сет с колонками:\n",
      "record_id - Уникальный идентификатор строки данных\n",
      "service_date - Дата оказания медицинской услуги\n",
      "service_name - Наименование медицинской услуги\n",
      "service_amount - Стоимость оказанных услуг\n",
      "service_number - Количество услуг\n",
      "insured - Уникальный идентификатор пациента\n",
      "sex_id - Пол пациента\n",
      "age_for_service_date - Возраст пациента\n",
      "----------------------------------------------------------------------------------------------------\n",
      "Размер датасета (85369, 8) , полных дубликатов - 0\n",
      "Количество пропусков по столбцам: \n",
      "record_id                0\n",
      "service_date             0\n",
      "service_name             0\n",
      "service_amount           0\n",
      "service_number           0\n",
      "insured                  0\n",
      "sex_id                  21\n",
      "age_for_service_date     0\n",
      "dtype: int64\n",
      "----------------------------------------------------------------------------------------------------\n",
      "Информация о столбцах\n",
      "<class 'pandas.core.frame.DataFrame'>\n",
      "RangeIndex: 85369 entries, 0 to 85368\n",
      "Data columns (total 8 columns):\n",
      " #   Column                Non-Null Count  Dtype  \n",
      "---  ------                --------------  -----  \n",
      " 0   record_id             85369 non-null  int64  \n",
      " 1   service_date          85369 non-null  object \n",
      " 2   service_name          85369 non-null  object \n",
      " 3   service_amount        85369 non-null  int64  \n",
      " 4   service_number        85369 non-null  int64  \n",
      " 5   insured               85369 non-null  int64  \n",
      " 6   sex_id                85348 non-null  float64\n",
      " 7   age_for_service_date  85369 non-null  int64  \n",
      "dtypes: float64(1), int64(5), object(2)\n",
      "memory usage: 5.2+ MB\n",
      "Основные статистические показатели всего набора данных\n",
      "              record_id  service_amount  service_number      insured  \\\n",
      "count         85,369.00       85,369.00       85,369.00    85,369.00   \n",
      "mean  31,799,826,572.25        1,166.09            1.02   654,916.29   \n",
      "std      837,064,983.00          799.06            0.23   262,335.58   \n",
      "min   30,268,157,003.00          147.00            1.00   125,073.00   \n",
      "25%   31,111,934,803.00          550.00            1.00   509,690.00   \n",
      "50%   31,814,131,003.00        1,155.00            1.00   651,895.00   \n",
      "75%   32,511,163,303.00        1,530.00            1.00   822,728.00   \n",
      "max   33,178,147,203.00       26,999.00           16.00 1,306,795.00   \n",
      "\n",
      "         sex_id  age_for_service_date  \n",
      "count 85,348.00             85,369.00  \n",
      "mean       1.62                 33.85  \n",
      "std        0.49                 12.14  \n",
      "min        1.00                  0.00  \n",
      "25%        1.00                 27.00  \n",
      "50%        2.00                 34.00  \n",
      "75%        2.00                 41.00  \n",
      "max        2.00                 83.00  \n",
      "----------------------------------------------------------------------------------------------------\n"
     ]
    }
   ],
   "source": [
    "# словать имен колонок\n",
    "name_col = {'record_id':'Уникальный идентификатор строки данных',\n",
    "            'service_date':'Дата оказания медицинской услуги',\n",
    "            'service_name':'Наименование медицинской услуги',\n",
    "            'service_number':'Количество услуг',\n",
    "            'service_amount':'Стоимость оказанных услуг',\n",
    "            'insured':'Уникальный идентификатор пациента',\n",
    "            'sex_id':'Пол пациента',\n",
    "            'age_for_service_date':'Возраст пациента'}\n",
    "\n",
    "print('Представлен дата сет с колонками:')\n",
    "for col in df.columns:\n",
    "    print(col,'-',name_col[col])\n",
    "print('-'*100)\n",
    "print('Размер датасета',df.shape,', полных дубликатов -',df.duplicated().sum())\n",
    "print('Количество пропусков по столбцам: ')\n",
    "print(df.isna().sum())\n",
    "print('-'*100)\n",
    "print('Информация о столбцах')\n",
    "df.info()\n",
    "print('Основные статистические показатели всего набора данных')\n",
    "print(df.describe())\n",
    "print('-'*100)"
   ]
  },
  {
   "cell_type": "markdown",
   "id": "a5fd96d2",
   "metadata": {},
   "source": [
    "#### Имеем массив данных размером (85369, 8):\n",
    "#### - Нет полных дубликатов\n",
    "#### - Пропуски в колонке пол пациента в 21 строке, возможно вызваны незаполнением поля анкеты. Если заполнить пропуски не сможем - удаляем строки с пропусками, менее 1% выборки\n",
    "#### - Некорректный тип даты - исправляем \n",
    "#### - 75% значений service_number равняется 1 и среднне 1.02 - проверим на выбросы\n",
    "#### - 75% клиентов клиники не старше 41 года, распределение вероятно близкое к нормальному со смещением влево"
   ]
  },
  {
   "cell_type": "markdown",
   "id": "c9ebef64",
   "metadata": {},
   "source": [
    "#### 2.2. Исправляем типы данных и пропуски"
   ]
  },
  {
   "cell_type": "code",
   "execution_count": 4,
   "id": "0c5a00b7",
   "metadata": {},
   "outputs": [
    {
     "data": {
      "text/plain": [
       "0"
      ]
     },
     "execution_count": 4,
     "metadata": {},
     "output_type": "execute_result"
    }
   ],
   "source": [
    "df['record_id'].duplicated().sum()"
   ]
  },
  {
   "cell_type": "code",
   "execution_count": 5,
   "id": "9e288a0b",
   "metadata": {},
   "outputs": [
    {
     "name": "stdout",
     "output_type": "stream",
     "text": [
      "Количество пропусков в указании пола 21\n",
      "Какие id пользователей с проусками пола?\n"
     ]
    },
    {
     "data": {
      "text/plain": [
       "512590    17\n",
       "221581     4\n",
       "Name: insured, dtype: int64"
      ]
     },
     "execution_count": 5,
     "metadata": {},
     "output_type": "execute_result"
    },
    {
     "name": "stdout",
     "output_type": "stream",
     "text": [
      "Попробуем заполнить пропуски из других строк, или удалим, размер дата сета до удаления (85369, 8)\n",
      "Размер дата сета после удаления пропусков (85365, 8) удалили -4 строк\n"
     ]
    }
   ],
   "source": [
    "# Пропуски\n",
    "print('Количество пропусков в указании пола', df['sex_id'].isna().sum())\n",
    "print('Какие id пользователей с проусками пола?')\n",
    "df[df['sex_id'].isna()==True]['insured'].value_counts()\n",
    "print('Попробуем заполнить пропуски из других строк, или удалим, размер дата сета до удаления',df.shape)\n",
    "sh = df.shape[0]\n",
    "for el in df[df['sex_id'].isna()==True]['insured'].value_counts().index:\n",
    "    try:\n",
    "        df.loc[df['insured']==el,'sex_id'] = df.loc[df['insured'] == el,'sex_id'].value_counts().index[0]\n",
    "    except:\n",
    "        pass\n",
    "# удаляем строки с пропусками\n",
    "df = df[df['sex_id'].isna()==False]\n",
    "print('Размер дата сета после удаления пропусков',df.shape, 'удалили',df.shape[0]-sh,'строк')\n"
   ]
  },
  {
   "cell_type": "code",
   "execution_count": 6,
   "id": "a4d8608b",
   "metadata": {},
   "outputs": [],
   "source": [
    "# исправляем тип даты\n",
    "df['service_date'] = pd.to_datetime(df['service_date'])"
   ]
  },
  {
   "cell_type": "markdown",
   "id": "7ed2f6e4",
   "metadata": {},
   "source": [
    "#### 2.3. Уникальные значения и диапазоны"
   ]
  },
  {
   "cell_type": "markdown",
   "id": "521cbc93",
   "metadata": {},
   "source": [
    "Для числовых значений удостоверимся в адекватном диапазоне, а так же ознакомимся с категориальными значениями"
   ]
  },
  {
   "cell_type": "code",
   "execution_count": 7,
   "id": "9a20a431",
   "metadata": {},
   "outputs": [
    {
     "name": "stdout",
     "output_type": "stream",
     "text": [
      "Минимальное и максимальное значение колонки Дата оказания медицинской услуги\n",
      "min = 2021-01-03 00:00:00\n",
      "max = 2022-08-31 00:00:00\n",
      "Минимальное и максимальное значение колонки Количество услуг\n",
      "min = 1\n",
      "max = 16\n",
      "Минимальное и максимальное значение колонки Пол пациента\n",
      "min = 1.0\n",
      "max = 2.0\n",
      "Минимальное и максимальное значение колонки Возраст пациента\n",
      "min = 0\n",
      "max = 83\n",
      "Минимальное и максимальное значение колонки Стоимость оказанных услуг\n",
      "min = 147\n",
      "max = 26999\n"
     ]
    }
   ],
   "source": [
    "for col in ['service_date','service_number','sex_id','age_for_service_date','service_amount']:\n",
    "    print('Минимальное и максимальное значение колонки',name_col[col])\n",
    "    print('min =',df[col].min())\n",
    "    print('max =',df[col].max())"
   ]
  },
  {
   "cell_type": "markdown",
   "id": "9c9bd953",
   "metadata": {},
   "source": [
    "#### Вренной интервал не равномерный, данные за 2021 год обрываются в августе, следует учесть это сравнивая суммы  выручки по годам\n",
    "#### Количество услуг имеет положительные значения, но верхняя граница 16  похожа на выброс\n",
    "#### Колонка, определяющая пол клиента, как и ожидалось имеет дискретные значения\n",
    "#### Границы возраста клиентов имеют положительные значения в разумных пределах\n",
    "#### Суммы за услуги положительные числа - адекватно\n",
    "#### По названию услуги можно разбить на некоторые категории"
   ]
  },
  {
   "cell_type": "markdown",
   "id": "e45f085b",
   "metadata": {},
   "source": [
    "#### 2.4. Выбросы\n",
    "\n",
    "Построим 'ящики с усами' и оценим выбросы по уровню персентилей"
   ]
  },
  {
   "cell_type": "code",
   "execution_count": 8,
   "id": "92dab639",
   "metadata": {},
   "outputs": [
    {
     "data": {
      "image/png": "[encoded data removed]",
      "text/plain": [
       "<Figure size 432x288 with 1 Axes>"
      ]
     },
     "metadata": {
      "needs_background": "light"
     },
     "output_type": "display_data"
    }
   ],
   "source": [
    "# Строим 'ящики с усами', предварительно пронормировав данные\n",
    "(df[['service_number',\n",
    "     'age_for_service_date',\n",
    "     'service_amount']]/df[['service_number',\n",
    "                            'age_for_service_date',\n",
    "                            'service_amount']].max()).rename(columns={'service_number':name_col['service_number'],\n",
    "                                                        'age_for_service_date':name_col['age_for_service_date'],\n",
    "                                                        'service_amount':name_col['service_amount']}).boxplot()\n",
    "plt.title('\"Ящики с усами\" параметров таблицы')\n",
    "plt.ylabel('Нормированное значение')\n",
    "plt.xticks(rotation=30)\n",
    "plt.show();"
   ]
  },
  {
   "cell_type": "code",
   "execution_count": 9,
   "id": "09fdd8ec",
   "metadata": {},
   "outputs": [
    {
     "data": {
      "text/plain": [
       "Text(0, 0.5, 'Количество значений в выборке')"
      ]
     },
     "execution_count": 9,
     "metadata": {},
     "output_type": "execute_result"
    },
    {
     "data": {
      "text/plain": [
       "Text(0.5, 0, 'Количество услуг')"
      ]
     },
     "execution_count": 9,
     "metadata": {},
     "output_type": "execute_result"
    },
    {
     "data": {
      "text/plain": [
       "Text(0.5, 1.0, 'Распределение параметра: Количество услуг')"
      ]
     },
     "execution_count": 9,
     "metadata": {},
     "output_type": "execute_result"
    },
    {
     "data": {
      "image/png": "[encoded data removed]",
      "text/plain": [
       "<Figure size 432x288 with 1 Axes>"
      ]
     },
     "metadata": {
      "needs_background": "light"
     },
     "output_type": "display_data"
    },
    {
     "data": {
      "text/plain": [
       "Text(0, 0.5, 'Количество значений в выборке')"
      ]
     },
     "execution_count": 9,
     "metadata": {},
     "output_type": "execute_result"
    },
    {
     "data": {
      "text/plain": [
       "Text(0.5, 0, 'Возраст пациента')"
      ]
     },
     "execution_count": 9,
     "metadata": {},
     "output_type": "execute_result"
    },
    {
     "data": {
      "text/plain": [
       "Text(0.5, 1.0, 'Распределение параметра: Возраст пациента')"
      ]
     },
     "execution_count": 9,
     "metadata": {},
     "output_type": "execute_result"
    },
    {
     "data": {
      "image/png": "[encoded data removed]",
      "text/plain": [
       "<Figure size 432x288 with 1 Axes>"
      ]
     },
     "metadata": {
      "needs_background": "light"
     },
     "output_type": "display_data"
    },
    {
     "data": {
      "text/plain": [
       "Text(0, 0.5, 'Количество значений в выборке')"
      ]
     },
     "execution_count": 9,
     "metadata": {},
     "output_type": "execute_result"
    },
    {
     "data": {
      "text/plain": [
       "Text(0.5, 0, 'Стоимость оказанных услуг')"
      ]
     },
     "execution_count": 9,
     "metadata": {},
     "output_type": "execute_result"
    },
    {
     "data": {
      "text/plain": [
       "Text(0.5, 1.0, 'Распределение параметра: Стоимость оказанных услуг')"
      ]
     },
     "execution_count": 9,
     "metadata": {},
     "output_type": "execute_result"
    },
    {
     "data": {
      "image/png": "[encoded data removed]",
      "text/plain": [
       "<Figure size 432x288 with 1 Axes>"
      ]
     },
     "metadata": {
      "needs_background": "light"
     },
     "output_type": "display_data"
    }
   ],
   "source": [
    "for el in ['service_number','age_for_service_date','service_amount']:\n",
    "    plt.ylabel('Количество значений в выборке')\n",
    "    plt.xlabel(name_col[el])\n",
    "    plt.title('Распределение параметра: {}'.format(name_col[el]))\n",
    "    plot = sns.distplot(df[el])\n",
    "    plt.show();\n",
    "  "
   ]
  },
  {
   "cell_type": "code",
   "execution_count": 10,
   "id": "0851f28c",
   "metadata": {},
   "outputs": [
    {
     "data": {
      "text/plain": [
       "'Количество услуг'"
      ]
     },
     "execution_count": 10,
     "metadata": {},
     "output_type": "execute_result"
    },
    {
     "name": "stdout",
     "output_type": "stream",
     "text": [
      "Персентиль 90 %: 1.0\n",
      "Персентиль 95 %: 1.0\n",
      "Персентиль 99 %: 2.0\n"
     ]
    },
    {
     "data": {
      "text/plain": [
       "'Возраст пациента'"
      ]
     },
     "execution_count": 10,
     "metadata": {},
     "output_type": "execute_result"
    },
    {
     "name": "stdout",
     "output_type": "stream",
     "text": [
      "Персентиль 25 %: 27.0\n",
      "Персентиль 50 %: 34.0\n",
      "Персентиль 75 %: 41.0\n"
     ]
    },
    {
     "data": {
      "text/plain": [
       "'Стоимость оказанных услуг'"
      ]
     },
     "execution_count": 10,
     "metadata": {},
     "output_type": "execute_result"
    },
    {
     "name": "stdout",
     "output_type": "stream",
     "text": [
      "Персентиль 90 %: 1980.0\n",
      "Персентиль 95 %: 2540.0\n",
      "Персентиль 99 %: 3780.0\n"
     ]
    }
   ],
   "source": [
    "for k,v in {'service_number':[90,95,99],\n",
    "            'age_for_service_date':[25,50,75],\n",
    "            'service_amount':[90,95,99]}.items():\n",
    "    name_col[k]\n",
    "    for per in v:\n",
    "        print('Персентиль',per,'%:',np.percentile(df[k],per))"
   ]
  },
  {
   "cell_type": "markdown",
   "id": "236bb19b",
   "metadata": {},
   "source": [
    "#### Итак, всего:\n",
    "- 1% значений количества услуг больше 2\n",
    "- 75% пациентов не старше 41 года - тут мы не будем искать выбросы\n",
    "- 99% пациэнтов заплатили не более 3780 рублей за услугу, более этой сумы можем посчитать выбросами\n",
    "\n",
    "#### Посчитаем сколько данных потеряем, если уберем выбросы с пороговым значением  - персентиль 99%\n"
   ]
  },
  {
   "cell_type": "code",
   "execution_count": 11,
   "id": "5f46b1a7",
   "metadata": {},
   "outputs": [
    {
     "name": "stdout",
     "output_type": "stream",
     "text": [
      "Выбросы\n"
     ]
    },
    {
     "data": {
      "text/html": [
       "<div>\n",
       "<style scoped>\n",
       "    .dataframe tbody tr th:only-of-type {\n",
       "        vertical-align: middle;\n",
       "    }\n",
       "\n",
       "    .dataframe tbody tr th {\n",
       "        vertical-align: top;\n",
       "    }\n",
       "\n",
       "    .dataframe thead th {\n",
       "        text-align: right;\n",
       "    }\n",
       "</style>\n",
       "<table border=\"1\" class=\"dataframe\">\n",
       "  <thead>\n",
       "    <tr style=\"text-align: right;\">\n",
       "      <th></th>\n",
       "      <th>record_id</th>\n",
       "      <th>service_date</th>\n",
       "      <th>service_name</th>\n",
       "      <th>service_amount</th>\n",
       "      <th>service_number</th>\n",
       "      <th>insured</th>\n",
       "      <th>sex_id</th>\n",
       "      <th>age_for_service_date</th>\n",
       "    </tr>\n",
       "  </thead>\n",
       "  <tbody>\n",
       "    <tr>\n",
       "      <th>8528</th>\n",
       "      <td>30620847703</td>\n",
       "      <td>2021-04-12</td>\n",
       "      <td>Электронейромиография - игольчатая миография в...</td>\n",
       "      <td>7560</td>\n",
       "      <td>3</td>\n",
       "      <td>544846</td>\n",
       "      <td>2.00</td>\n",
       "      <td>55</td>\n",
       "    </tr>\n",
       "    <tr>\n",
       "      <th>10245</th>\n",
       "      <td>30621019503</td>\n",
       "      <td>2021-04-11</td>\n",
       "      <td>Гистологическое исследование биоптата органов ...</td>\n",
       "      <td>8664</td>\n",
       "      <td>3</td>\n",
       "      <td>243435</td>\n",
       "      <td>2.00</td>\n",
       "      <td>36</td>\n",
       "    </tr>\n",
       "    <tr>\n",
       "      <th>11398</th>\n",
       "      <td>30621135503</td>\n",
       "      <td>2021-04-13</td>\n",
       "      <td>Пункция молочной железы, опухолей кожи, лимфоу...</td>\n",
       "      <td>6930</td>\n",
       "      <td>5</td>\n",
       "      <td>243315</td>\n",
       "      <td>2.00</td>\n",
       "      <td>40</td>\n",
       "    </tr>\n",
       "    <tr>\n",
       "      <th>11399</th>\n",
       "      <td>30621135603</td>\n",
       "      <td>2021-04-13</td>\n",
       "      <td>Исследование пунктатов молочной железы и кожи</td>\n",
       "      <td>4045</td>\n",
       "      <td>5</td>\n",
       "      <td>243315</td>\n",
       "      <td>2.00</td>\n",
       "      <td>40</td>\n",
       "    </tr>\n",
       "    <tr>\n",
       "      <th>11425</th>\n",
       "      <td>30621138203</td>\n",
       "      <td>2021-04-13</td>\n",
       "      <td>УЗИ - контроль при пункции</td>\n",
       "      <td>4410</td>\n",
       "      <td>5</td>\n",
       "      <td>243315</td>\n",
       "      <td>2.00</td>\n",
       "      <td>40</td>\n",
       "    </tr>\n",
       "    <tr>\n",
       "      <th>13256</th>\n",
       "      <td>30786126603</td>\n",
       "      <td>2021-05-22</td>\n",
       "      <td>Пункция молочной железы, опухолей кожи, лимфоу...</td>\n",
       "      <td>4158</td>\n",
       "      <td>3</td>\n",
       "      <td>150261</td>\n",
       "      <td>2.00</td>\n",
       "      <td>43</td>\n",
       "    </tr>\n",
       "    <tr>\n",
       "      <th>14251</th>\n",
       "      <td>30786226103</td>\n",
       "      <td>2021-05-16</td>\n",
       "      <td>Наложение противоотечного противовоспалительно...</td>\n",
       "      <td>4095</td>\n",
       "      <td>3</td>\n",
       "      <td>531654</td>\n",
       "      <td>1.00</td>\n",
       "      <td>59</td>\n",
       "    </tr>\n",
       "    <tr>\n",
       "      <th>16695</th>\n",
       "      <td>30961603903</td>\n",
       "      <td>2021-06-28</td>\n",
       "      <td>Электронейромиография - игольчатая миография в...</td>\n",
       "      <td>7560</td>\n",
       "      <td>3</td>\n",
       "      <td>544854</td>\n",
       "      <td>2.00</td>\n",
       "      <td>45</td>\n",
       "    </tr>\n",
       "    <tr>\n",
       "      <th>19327</th>\n",
       "      <td>30961867903</td>\n",
       "      <td>2021-06-26</td>\n",
       "      <td>Пункция молочной железы, опухолей кожи, лимфоу...</td>\n",
       "      <td>4158</td>\n",
       "      <td>3</td>\n",
       "      <td>596580</td>\n",
       "      <td>2.00</td>\n",
       "      <td>33</td>\n",
       "    </tr>\n",
       "    <tr>\n",
       "      <th>24353</th>\n",
       "      <td>31249390403</td>\n",
       "      <td>2021-08-20</td>\n",
       "      <td>Гистологическое исследование операционного мат...</td>\n",
       "      <td>9704</td>\n",
       "      <td>4</td>\n",
       "      <td>538768</td>\n",
       "      <td>2.00</td>\n",
       "      <td>39</td>\n",
       "    </tr>\n",
       "    <tr>\n",
       "      <th>26896</th>\n",
       "      <td>31408710603</td>\n",
       "      <td>2021-09-18</td>\n",
       "      <td>Ультразвуковое исследование сустава</td>\n",
       "      <td>5670</td>\n",
       "      <td>3</td>\n",
       "      <td>698405</td>\n",
       "      <td>1.00</td>\n",
       "      <td>35</td>\n",
       "    </tr>\n",
       "    <tr>\n",
       "      <th>29264</th>\n",
       "      <td>31408949603</td>\n",
       "      <td>2021-09-01</td>\n",
       "      <td>Ультразвуковое исследование сустава</td>\n",
       "      <td>7560</td>\n",
       "      <td>4</td>\n",
       "      <td>490614</td>\n",
       "      <td>2.00</td>\n",
       "      <td>64</td>\n",
       "    </tr>\n",
       "    <tr>\n",
       "      <th>32680</th>\n",
       "      <td>31485731003</td>\n",
       "      <td>2021-10-17</td>\n",
       "      <td>Гистологическое исследование биоптата органов ...</td>\n",
       "      <td>9090</td>\n",
       "      <td>3</td>\n",
       "      <td>716141</td>\n",
       "      <td>2.00</td>\n",
       "      <td>31</td>\n",
       "    </tr>\n",
       "    <tr>\n",
       "      <th>36313</th>\n",
       "      <td>31680597403</td>\n",
       "      <td>2021-11-20</td>\n",
       "      <td>Постановка кожных аллергопроб (за 1 единицу)</td>\n",
       "      <td>3840</td>\n",
       "      <td>16</td>\n",
       "      <td>544906</td>\n",
       "      <td>1.00</td>\n",
       "      <td>31</td>\n",
       "    </tr>\n",
       "    <tr>\n",
       "      <th>37567</th>\n",
       "      <td>31680727103</td>\n",
       "      <td>2021-11-25</td>\n",
       "      <td>Постановка кожных аллергопроб (за 1 единицу)</td>\n",
       "      <td>3840</td>\n",
       "      <td>16</td>\n",
       "      <td>734530</td>\n",
       "      <td>2.00</td>\n",
       "      <td>43</td>\n",
       "    </tr>\n",
       "    <tr>\n",
       "      <th>43407</th>\n",
       "      <td>31814204503</td>\n",
       "      <td>2021-12-19</td>\n",
       "      <td>Гистологическое исследование биоптата органов ...</td>\n",
       "      <td>9090</td>\n",
       "      <td>3</td>\n",
       "      <td>774311</td>\n",
       "      <td>1.00</td>\n",
       "      <td>25</td>\n",
       "    </tr>\n",
       "    <tr>\n",
       "      <th>45038</th>\n",
       "      <td>31996297103</td>\n",
       "      <td>2022-01-21</td>\n",
       "      <td>Электронейромиография - игольчатая миография в...</td>\n",
       "      <td>7950</td>\n",
       "      <td>3</td>\n",
       "      <td>662481</td>\n",
       "      <td>2.00</td>\n",
       "      <td>30</td>\n",
       "    </tr>\n",
       "    <tr>\n",
       "      <th>54324</th>\n",
       "      <td>32326875203</td>\n",
       "      <td>2022-03-13</td>\n",
       "      <td>Гистологическое исследование биоптата органов ...</td>\n",
       "      <td>9090</td>\n",
       "      <td>3</td>\n",
       "      <td>743976</td>\n",
       "      <td>1.00</td>\n",
       "      <td>22</td>\n",
       "    </tr>\n",
       "    <tr>\n",
       "      <th>59435</th>\n",
       "      <td>32510699303</td>\n",
       "      <td>2022-04-30</td>\n",
       "      <td>Гистологическое исследование новообразований к...</td>\n",
       "      <td>9090</td>\n",
       "      <td>3</td>\n",
       "      <td>544854</td>\n",
       "      <td>2.00</td>\n",
       "      <td>46</td>\n",
       "    </tr>\n",
       "    <tr>\n",
       "      <th>65243</th>\n",
       "      <td>32511285603</td>\n",
       "      <td>2022-04-10</td>\n",
       "      <td>Рентгенография крупного сустава (2 снимка)</td>\n",
       "      <td>4950</td>\n",
       "      <td>3</td>\n",
       "      <td>873240</td>\n",
       "      <td>2.00</td>\n",
       "      <td>53</td>\n",
       "    </tr>\n",
       "    <tr>\n",
       "      <th>68001</th>\n",
       "      <td>32631452903</td>\n",
       "      <td>2022-05-17</td>\n",
       "      <td>Внутримышечное введение лекарственных средств ...</td>\n",
       "      <td>5520</td>\n",
       "      <td>4</td>\n",
       "      <td>935445</td>\n",
       "      <td>2.00</td>\n",
       "      <td>38</td>\n",
       "    </tr>\n",
       "    <tr>\n",
       "      <th>71009</th>\n",
       "      <td>32631757503</td>\n",
       "      <td>2022-05-24</td>\n",
       "      <td>Пункция молочной железы, опухолей кожи, лимфоу...</td>\n",
       "      <td>4380</td>\n",
       "      <td>3</td>\n",
       "      <td>935506</td>\n",
       "      <td>2.00</td>\n",
       "      <td>36</td>\n",
       "    </tr>\n",
       "    <tr>\n",
       "      <th>80414</th>\n",
       "      <td>32978927703</td>\n",
       "      <td>2022-07-30</td>\n",
       "      <td>Ультразвуковое исследование сустава</td>\n",
       "      <td>8720</td>\n",
       "      <td>4</td>\n",
       "      <td>1154950</td>\n",
       "      <td>2.00</td>\n",
       "      <td>31</td>\n",
       "    </tr>\n",
       "    <tr>\n",
       "      <th>80415</th>\n",
       "      <td>32978927803</td>\n",
       "      <td>2022-07-30</td>\n",
       "      <td>Рентгенография крупного сустава (2 снимка)</td>\n",
       "      <td>7280</td>\n",
       "      <td>4</td>\n",
       "      <td>1154950</td>\n",
       "      <td>2.00</td>\n",
       "      <td>31</td>\n",
       "    </tr>\n",
       "    <tr>\n",
       "      <th>81090</th>\n",
       "      <td>32978995803</td>\n",
       "      <td>2022-07-22</td>\n",
       "      <td>Рентгенография крупного сустава (2 снимка)</td>\n",
       "      <td>5460</td>\n",
       "      <td>3</td>\n",
       "      <td>1217312</td>\n",
       "      <td>1.00</td>\n",
       "      <td>32</td>\n",
       "    </tr>\n",
       "    <tr>\n",
       "      <th>81092</th>\n",
       "      <td>32978996003</td>\n",
       "      <td>2022-07-22</td>\n",
       "      <td>Ультразвуковое исследование сустава</td>\n",
       "      <td>6540</td>\n",
       "      <td>3</td>\n",
       "      <td>1217312</td>\n",
       "      <td>1.00</td>\n",
       "      <td>32</td>\n",
       "    </tr>\n",
       "  </tbody>\n",
       "</table>\n",
       "</div>"
      ],
      "text/plain": [
       "         record_id service_date  \\\n",
       "8528   30620847703   2021-04-12   \n",
       "10245  30621019503   2021-04-11   \n",
       "11398  30621135503   2021-04-13   \n",
       "11399  30621135603   2021-04-13   \n",
       "11425  30621138203   2021-04-13   \n",
       "13256  30786126603   2021-05-22   \n",
       "14251  30786226103   2021-05-16   \n",
       "16695  30961603903   2021-06-28   \n",
       "19327  30961867903   2021-06-26   \n",
       "24353  31249390403   2021-08-20   \n",
       "26896  31408710603   2021-09-18   \n",
       "29264  31408949603   2021-09-01   \n",
       "32680  31485731003   2021-10-17   \n",
       "36313  31680597403   2021-11-20   \n",
       "37567  31680727103   2021-11-25   \n",
       "43407  31814204503   2021-12-19   \n",
       "45038  31996297103   2022-01-21   \n",
       "54324  32326875203   2022-03-13   \n",
       "59435  32510699303   2022-04-30   \n",
       "65243  32511285603   2022-04-10   \n",
       "68001  32631452903   2022-05-17   \n",
       "71009  32631757503   2022-05-24   \n",
       "80414  32978927703   2022-07-30   \n",
       "80415  32978927803   2022-07-30   \n",
       "81090  32978995803   2022-07-22   \n",
       "81092  32978996003   2022-07-22   \n",
       "\n",
       "                                            service_name  service_amount  \\\n",
       "8528   Электронейромиография - игольчатая миография в...            7560   \n",
       "10245  Гистологическое исследование биоптата органов ...            8664   \n",
       "11398  Пункция молочной железы, опухолей кожи, лимфоу...            6930   \n",
       "11399      Исследование пунктатов молочной железы и кожи            4045   \n",
       "11425                         УЗИ - контроль при пункции            4410   \n",
       "13256  Пункция молочной железы, опухолей кожи, лимфоу...            4158   \n",
       "14251  Наложение противоотечного противовоспалительно...            4095   \n",
       "16695  Электронейромиография - игольчатая миография в...            7560   \n",
       "19327  Пункция молочной железы, опухолей кожи, лимфоу...            4158   \n",
       "24353  Гистологическое исследование операционного мат...            9704   \n",
       "26896                Ультразвуковое исследование сустава            5670   \n",
       "29264                Ультразвуковое исследование сустава            7560   \n",
       "32680  Гистологическое исследование биоптата органов ...            9090   \n",
       "36313       Постановка кожных аллергопроб (за 1 единицу)            3840   \n",
       "37567       Постановка кожных аллергопроб (за 1 единицу)            3840   \n",
       "43407  Гистологическое исследование биоптата органов ...            9090   \n",
       "45038  Электронейромиография - игольчатая миография в...            7950   \n",
       "54324  Гистологическое исследование биоптата органов ...            9090   \n",
       "59435  Гистологическое исследование новообразований к...            9090   \n",
       "65243         Рентгенография крупного сустава (2 снимка)            4950   \n",
       "68001  Внутримышечное введение лекарственных средств ...            5520   \n",
       "71009  Пункция молочной железы, опухолей кожи, лимфоу...            4380   \n",
       "80414                Ультразвуковое исследование сустава            8720   \n",
       "80415         Рентгенография крупного сустава (2 снимка)            7280   \n",
       "81090         Рентгенография крупного сустава (2 снимка)            5460   \n",
       "81092                Ультразвуковое исследование сустава            6540   \n",
       "\n",
       "       service_number  insured  sex_id  age_for_service_date  \n",
       "8528                3   544846    2.00                    55  \n",
       "10245               3   243435    2.00                    36  \n",
       "11398               5   243315    2.00                    40  \n",
       "11399               5   243315    2.00                    40  \n",
       "11425               5   243315    2.00                    40  \n",
       "13256               3   150261    2.00                    43  \n",
       "14251               3   531654    1.00                    59  \n",
       "16695               3   544854    2.00                    45  \n",
       "19327               3   596580    2.00                    33  \n",
       "24353               4   538768    2.00                    39  \n",
       "26896               3   698405    1.00                    35  \n",
       "29264               4   490614    2.00                    64  \n",
       "32680               3   716141    2.00                    31  \n",
       "36313              16   544906    1.00                    31  \n",
       "37567              16   734530    2.00                    43  \n",
       "43407               3   774311    1.00                    25  \n",
       "45038               3   662481    2.00                    30  \n",
       "54324               3   743976    1.00                    22  \n",
       "59435               3   544854    2.00                    46  \n",
       "65243               3   873240    2.00                    53  \n",
       "68001               4   935445    2.00                    38  \n",
       "71009               3   935506    2.00                    36  \n",
       "80414               4  1154950    2.00                    31  \n",
       "80415               4  1154950    2.00                    31  \n",
       "81090               3  1217312    1.00                    32  \n",
       "81092               3  1217312    1.00                    32  "
      ]
     },
     "execution_count": 11,
     "metadata": {},
     "output_type": "execute_result"
    },
    {
     "name": "stdout",
     "output_type": "stream",
     "text": [
      "0.03% теряем, убирая 26 выбросов\n"
     ]
    }
   ],
   "source": [
    "# срез данных - выбросы\n",
    "emissions = df.loc[(df['service_number']>2)&(df['service_amount']>3780.0)]\n",
    "print('Выбросы')\n",
    "emissions\n",
    "print(\"{:.2f}% теряем, убирая {} выбросов\".format(100*emissions.shape[0]/df.shape[0],emissions.shape[0]))\n",
    "#print('Выбросы распределены по годам 2021/2022 в строках {}/{} по сумме выкупа {}/{}')\n",
    "# убираем выбросы\n",
    "df = df.loc[(df['service_number']<=2)&(df['service_amount']<=3780.0)]"
   ]
  },
  {
   "cell_type": "markdown",
   "id": "45e41c83",
   "metadata": {},
   "source": [
    "#### 2.5. Дополнительные колонки\n",
    "\n",
    "Добавим дополнительные колонки для анализа данных:\n",
    "- Год **year**\n",
    "- Месяц **month**\n",
    "- Месяц и год **mon_year**\n",
    "- Категория услуг **category**\n",
    "- Стоимость услуги **service_price**"
   ]
  },
  {
   "cell_type": "markdown",
   "id": "728adc5d",
   "metadata": {},
   "source": [
    "#### По Топ - 20 слов распределим наименования услуг по категориям"
   ]
  },
  {
   "cell_type": "code",
   "execution_count": 12,
   "id": "40535a26",
   "metadata": {},
   "outputs": [
    {
     "data": {
      "text/html": [
       "<div>\n",
       "<style scoped>\n",
       "    .dataframe tbody tr th:only-of-type {\n",
       "        vertical-align: middle;\n",
       "    }\n",
       "\n",
       "    .dataframe tbody tr th {\n",
       "        vertical-align: top;\n",
       "    }\n",
       "\n",
       "    .dataframe thead th {\n",
       "        text-align: right;\n",
       "    }\n",
       "</style>\n",
       "<table border=\"1\" class=\"dataframe\">\n",
       "  <thead>\n",
       "    <tr style=\"text-align: right;\">\n",
       "      <th></th>\n",
       "      <th>0</th>\n",
       "      <th>1</th>\n",
       "      <th>2</th>\n",
       "      <th>3</th>\n",
       "      <th>4</th>\n",
       "      <th>5</th>\n",
       "      <th>6</th>\n",
       "      <th>7</th>\n",
       "      <th>8</th>\n",
       "      <th>9</th>\n",
       "      <th>10</th>\n",
       "      <th>11</th>\n",
       "      <th>12</th>\n",
       "      <th>13</th>\n",
       "      <th>14</th>\n",
       "      <th>15</th>\n",
       "      <th>16</th>\n",
       "      <th>17</th>\n",
       "      <th>18</th>\n",
       "      <th>19</th>\n",
       "    </tr>\n",
       "  </thead>\n",
       "  <tbody>\n",
       "    <tr>\n",
       "      <th>index</th>\n",
       "      <td>прием</td>\n",
       "      <td>первичный</td>\n",
       "      <td>повторный</td>\n",
       "      <td>крови</td>\n",
       "      <td>(1</td>\n",
       "      <td>исследование</td>\n",
       "      <td>сеанс)</td>\n",
       "      <td>общий</td>\n",
       "      <td>взятие</td>\n",
       "      <td>анализ</td>\n",
       "      <td>ультразвуковое</td>\n",
       "      <td>из</td>\n",
       "      <td>вены</td>\n",
       "      <td>периферической</td>\n",
       "      <td>с</td>\n",
       "      <td>форм,,</td>\n",
       "      <td>соэ)</td>\n",
       "      <td>(лейкоцитарная</td>\n",
       "      <td>магнитотерапия</td>\n",
       "      <td>рентгенография</td>\n",
       "    </tr>\n",
       "    <tr>\n",
       "      <th>0</th>\n",
       "      <td>26118</td>\n",
       "      <td>15037</td>\n",
       "      <td>10944</td>\n",
       "      <td>8288</td>\n",
       "      <td>8071</td>\n",
       "      <td>7467</td>\n",
       "      <td>7258</td>\n",
       "      <td>6192</td>\n",
       "      <td>6174</td>\n",
       "      <td>5131</td>\n",
       "      <td>4379</td>\n",
       "      <td>4254</td>\n",
       "      <td>4211</td>\n",
       "      <td>4211</td>\n",
       "      <td>3572</td>\n",
       "      <td>3190</td>\n",
       "      <td>3190</td>\n",
       "      <td>3190</td>\n",
       "      <td>2838</td>\n",
       "      <td>2453</td>\n",
       "    </tr>\n",
       "  </tbody>\n",
       "</table>\n",
       "</div>"
      ],
      "text/plain": [
       "          0          1          2      3     4             5       6      7   \\\n",
       "index  прием  первичный  повторный  крови    (1  исследование  сеанс)  общий   \n",
       "0      26118      15037      10944   8288  8071          7467    7258   6192   \n",
       "\n",
       "           8       9               10    11    12              13    14  \\\n",
       "index  взятие  анализ  ультразвуковое    из  вены  периферической     с   \n",
       "0        6174    5131            4379  4254  4211            4211  3572   \n",
       "\n",
       "           15    16              17              18              19  \n",
       "index  форм,,  соэ)  (лейкоцитарная  магнитотерапия  рентгенография  \n",
       "0        3190  3190            3190            2838            2453  "
      ]
     },
     "execution_count": 12,
     "metadata": {},
     "output_type": "execute_result"
    }
   ],
   "source": [
    "# дополним словарь\n",
    "name_col['year'] = 'Год оказания услуги'\n",
    "name_col['month'] = 'Месяц оказания услуги'\n",
    "name_col['category'] = 'Категория услуг'\n",
    "name_col['service_price'] = 'Стоимость услуги'\n",
    "name_col['mon_year'] = 'Месяц'\n",
    "\n",
    "# столбец с годами\n",
    "df['year'] = df['service_date'].dt.year\n",
    "# столбец с месяцами\n",
    "df['month'] = df['service_date'].dt.month\n",
    "# столбец с годами и месяцами\n",
    "df['mon_year'] = df['service_date'].dt.to_period('M')\n",
    "# столбец с категориями\n",
    "df['category'] = df['service_name'].str.lower()\n",
    "# столбец со стоимостью услуги\n",
    "df['service_price'] = df['service_amount']/df['service_number']\n",
    "\n",
    "# ищем ключевые слова\n",
    "words = pd.Series(df['service_name'].str.lower().to_string().split()).value_counts().reset_index()\n",
    "# топ-20 ключевых слов названий \n",
    "words.head(20).T\n",
    "# словарь категорий - названий\n",
    "dict_cat = {'прием':['прием','осмотр','Консультация','Подбор','Типирование'],\n",
    "            \n",
    "            'анализы':['анализ','крови','кровь','взятие','посев','ревматоидный фактор','белок','мазок','креатинин',\n",
    "                       'мочевая кислота','мочевина','Триглицериды','Холестерин','аланинаминотрансфераза',\n",
    "                       'Альдостерон','ЛПНП','Кортизол','Ренин','Ангиотензин','Т4','ТТГ','Гепатит','АСТ',\n",
    "                       'Билирубин','общий','IgM','IgМ','IgG','IgA','IgE','Антитела','Железо','Ферритин','Протромбин','ВИЧ','РНК','Инсулин',\n",
    "                       'АТ к ТПО (тиреопероксидазе)','Калий','Натрий','Магний','Соскоб на грибы','Т3 св','ФСГ',\n",
    "                       'ЛГ','Пролактин','альфа-амилаза','ГГТ','Фосфотаза щелочная','ВИТАМИН','гемоглобин','феррин',\n",
    "                       'Helicobacter pylori','Фолиевая кислота','ЛПВП','Кальций','Лейкоцитарная формула','СОЭ',\n",
    "                       'Rh-фактор','Экспресс - метод','Углеводы','Фибриноген','Альбумин','Тромбиновое время',\n",
    "                       'Соскоб','гидроксипрогестерон','Фосфор','гормон','проба','антиген','Кальцитонин',\n",
    "                       'тиреоглобулину)','АСЛО','ромбин','Слюна','Биопсия','Эпителий','Эстрадиол','протеин',\n",
    "                       'Плесень','Клещ','пыли','Липаза','Хлор','Кал','Тиреоглобулин','Пыльца','Ретикулоциты',\n",
    "                       'Келл','АТ к гладкой мускулатуре','ЛДГ','ХГЧ','Д-димер','Белков','Креатинкиназа',\n",
    "                       'Прогестерон','Обнаружение','скопия','тромбоцит','Таракан','Перо попугая','Цинк','С-пептид',\n",
    "                       'ДЭА-С','Серотонин','Гомоцистеин','Т3','Лактат','молочная кислота','ДНК','Флороценоз',\n",
    "                       'Латекс','АТ к','Андростендион','Катехоламины','адреналин', 'норадреналин', 'дофамин',\n",
    "                       'Сифилис RPR (кардиолипиновый а/ген)','СА-72-4','Холинэстераза'],\n",
    "            \n",
    "            'исследования':['исследование','рентгенография','экг','ЭЭГ','УЗИ','терапия','сканирование','теста',\n",
    "                            'Расшифровка','Измерение','Рефрактометрия','Тест','кольпоскопия','Скиаскопия',\n",
    "                            'Катетеризация','Пульсоксиметрия','Эндоскопия','визуализация','скопическая','метрия','Риноцитограмма',\n",
    "                            'скрининг'],\n",
    "            \n",
    "            'физиотерапия':['массаж','магнитотерапия','токи','Фонофорез','Сеанс','ЛФК','Электромиостимуляц',\n",
    "                            'маневр','процедур','Пребывание'],\n",
    "            \n",
    "            'манипуляции':['манипуляц','обработка','смазывание','Установка','снятие','Инстиляция','Анемизация',\n",
    "                           'Промывание носа методом перемещения','Удаление','инъекци','Перевязка','анестезия',\n",
    "                           'Наложение','Функция','графия','Инстилляция','Туалет','Постановка','Аноскопия',\n",
    "                           'препаратов','применение','пробы','Вакцинация','блокада','Санация','Прижигание',\n",
    "                           'Продувание','Промывание','пункци','Аппликация','Вскрыт','Иммобилизац','Введение',\n",
    "                           'Вливание','Криодеструкция','тампонада','Коагуляц','аспирация','Туширован',\n",
    "                           'при переломе','Репозиция','Коррекция','Зондирован']}"
   ]
  },
  {
   "cell_type": "code",
   "execution_count": 13,
   "id": "2397cfc6",
   "metadata": {},
   "outputs": [
    {
     "data": {
      "text/html": [
       "<div>\n",
       "<style scoped>\n",
       "    .dataframe tbody tr th:only-of-type {\n",
       "        vertical-align: middle;\n",
       "    }\n",
       "\n",
       "    .dataframe tbody tr th {\n",
       "        vertical-align: top;\n",
       "    }\n",
       "\n",
       "    .dataframe thead th {\n",
       "        text-align: right;\n",
       "    }\n",
       "</style>\n",
       "<table border=\"1\" class=\"dataframe\">\n",
       "  <thead>\n",
       "    <tr style=\"text-align: right;\">\n",
       "      <th></th>\n",
       "      <th>record_id</th>\n",
       "      <th>service_date</th>\n",
       "      <th>service_name</th>\n",
       "      <th>service_amount</th>\n",
       "      <th>service_number</th>\n",
       "      <th>insured</th>\n",
       "      <th>sex_id</th>\n",
       "      <th>age_for_service_date</th>\n",
       "      <th>year</th>\n",
       "      <th>month</th>\n",
       "      <th>mon_year</th>\n",
       "      <th>category</th>\n",
       "      <th>service_price</th>\n",
       "    </tr>\n",
       "  </thead>\n",
       "  <tbody>\n",
       "    <tr>\n",
       "      <th>0</th>\n",
       "      <td>30268157003</td>\n",
       "      <td>2021-01-24</td>\n",
       "      <td>Прием первичный</td>\n",
       "      <td>1470</td>\n",
       "      <td>1</td>\n",
       "      <td>490777</td>\n",
       "      <td>2.00</td>\n",
       "      <td>26</td>\n",
       "      <td>2021</td>\n",
       "      <td>1</td>\n",
       "      <td>2021-01</td>\n",
       "      <td>прием первичный</td>\n",
       "      <td>1,470.00</td>\n",
       "    </tr>\n",
       "    <tr>\n",
       "      <th>1</th>\n",
       "      <td>30268157103</td>\n",
       "      <td>2021-01-24</td>\n",
       "      <td>Взятие материала на посев, цитологическое иссл...</td>\n",
       "      <td>284</td>\n",
       "      <td>1</td>\n",
       "      <td>490777</td>\n",
       "      <td>2.00</td>\n",
       "      <td>26</td>\n",
       "      <td>2021</td>\n",
       "      <td>1</td>\n",
       "      <td>2021-01</td>\n",
       "      <td>взятие материала на посев, цитологическое иссл...</td>\n",
       "      <td>284.00</td>\n",
       "    </tr>\n",
       "    <tr>\n",
       "      <th>2</th>\n",
       "      <td>30268157203</td>\n",
       "      <td>2021-01-24</td>\n",
       "      <td>Посев отдел, дыхательных путей - слизистая зев...</td>\n",
       "      <td>1134</td>\n",
       "      <td>1</td>\n",
       "      <td>490777</td>\n",
       "      <td>2.00</td>\n",
       "      <td>26</td>\n",
       "      <td>2021</td>\n",
       "      <td>1</td>\n",
       "      <td>2021-01</td>\n",
       "      <td>посев отдел, дыхательных путей - слизистая зев...</td>\n",
       "      <td>1,134.00</td>\n",
       "    </tr>\n",
       "    <tr>\n",
       "      <th>3</th>\n",
       "      <td>30268157303</td>\n",
       "      <td>2021-01-24</td>\n",
       "      <td>Общий анализ крови (лейкоцитарная форм,, СОЭ)</td>\n",
       "      <td>693</td>\n",
       "      <td>1</td>\n",
       "      <td>490777</td>\n",
       "      <td>2.00</td>\n",
       "      <td>26</td>\n",
       "      <td>2021</td>\n",
       "      <td>1</td>\n",
       "      <td>2021-01</td>\n",
       "      <td>общий анализ крови (лейкоцитарная форм,, соэ)</td>\n",
       "      <td>693.00</td>\n",
       "    </tr>\n",
       "    <tr>\n",
       "      <th>4</th>\n",
       "      <td>30268157403</td>\n",
       "      <td>2021-01-24</td>\n",
       "      <td>Ревматоидный фактор</td>\n",
       "      <td>420</td>\n",
       "      <td>1</td>\n",
       "      <td>490777</td>\n",
       "      <td>2.00</td>\n",
       "      <td>26</td>\n",
       "      <td>2021</td>\n",
       "      <td>1</td>\n",
       "      <td>2021-01</td>\n",
       "      <td>ревматоидный фактор</td>\n",
       "      <td>420.00</td>\n",
       "    </tr>\n",
       "  </tbody>\n",
       "</table>\n",
       "</div>"
      ],
      "text/plain": [
       "     record_id service_date  \\\n",
       "0  30268157003   2021-01-24   \n",
       "1  30268157103   2021-01-24   \n",
       "2  30268157203   2021-01-24   \n",
       "3  30268157303   2021-01-24   \n",
       "4  30268157403   2021-01-24   \n",
       "\n",
       "                                        service_name  service_amount  \\\n",
       "0                                    Прием первичный            1470   \n",
       "1  Взятие материала на посев, цитологическое иссл...             284   \n",
       "2  Посев отдел, дыхательных путей - слизистая зев...            1134   \n",
       "3      Общий анализ крови (лейкоцитарная форм,, СОЭ)             693   \n",
       "4                                Ревматоидный фактор             420   \n",
       "\n",
       "   service_number  insured  sex_id  age_for_service_date  year  month  \\\n",
       "0               1   490777    2.00                    26  2021      1   \n",
       "1               1   490777    2.00                    26  2021      1   \n",
       "2               1   490777    2.00                    26  2021      1   \n",
       "3               1   490777    2.00                    26  2021      1   \n",
       "4               1   490777    2.00                    26  2021      1   \n",
       "\n",
       "  mon_year                                           category  service_price  \n",
       "0  2021-01                                    прием первичный       1,470.00  \n",
       "1  2021-01  взятие материала на посев, цитологическое иссл...         284.00  \n",
       "2  2021-01  посев отдел, дыхательных путей - слизистая зев...       1,134.00  \n",
       "3  2021-01      общий анализ крови (лейкоцитарная форм,, соэ)         693.00  \n",
       "4  2021-01                                ревматоидный фактор         420.00  "
      ]
     },
     "execution_count": 13,
     "metadata": {},
     "output_type": "execute_result"
    }
   ],
   "source": [
    "df.head()"
   ]
  },
  {
   "cell_type": "code",
   "execution_count": 14,
   "id": "6e4ae531",
   "metadata": {},
   "outputs": [],
   "source": [
    "# функция распределения наименований услуг по категориям\n",
    "def cat(s):\n",
    "    # заполним категории из словаря\n",
    "    for k,v in dict_cat.items():\n",
    "        for searchfor in v:\n",
    "            if s.find(searchfor.lower()) != -1:\n",
    "                return k"
   ]
  },
  {
   "cell_type": "code",
   "execution_count": 15,
   "id": "8b8890ee",
   "metadata": {},
   "outputs": [
    {
     "name": "stdout",
     "output_type": "stream",
     "text": [
      "Количество строк каждой категории\n"
     ]
    },
    {
     "data": {
      "text/plain": [
       "анализы         28669\n",
       "прием           26842\n",
       "исследования    19208\n",
       "физиотерапия     6216\n",
       "манипуляции      3450\n",
       "Name: category, dtype: int64"
      ]
     },
     "execution_count": 15,
     "metadata": {},
     "output_type": "execute_result"
    },
    {
     "data": {
      "text/plain": [
       "0"
      ]
     },
     "execution_count": 15,
     "metadata": {},
     "output_type": "execute_result"
    },
    {
     "data": {
      "text/html": [
       "<div>\n",
       "<style scoped>\n",
       "    .dataframe tbody tr th:only-of-type {\n",
       "        vertical-align: middle;\n",
       "    }\n",
       "\n",
       "    .dataframe tbody tr th {\n",
       "        vertical-align: top;\n",
       "    }\n",
       "\n",
       "    .dataframe thead th {\n",
       "        text-align: right;\n",
       "    }\n",
       "</style>\n",
       "<table border=\"1\" class=\"dataframe\">\n",
       "  <thead>\n",
       "    <tr style=\"text-align: right;\">\n",
       "      <th></th>\n",
       "      <th>record_id</th>\n",
       "      <th>service_date</th>\n",
       "      <th>service_name</th>\n",
       "      <th>service_amount</th>\n",
       "      <th>service_number</th>\n",
       "      <th>insured</th>\n",
       "      <th>sex_id</th>\n",
       "      <th>age_for_service_date</th>\n",
       "      <th>year</th>\n",
       "      <th>month</th>\n",
       "      <th>mon_year</th>\n",
       "      <th>category</th>\n",
       "      <th>service_price</th>\n",
       "    </tr>\n",
       "  </thead>\n",
       "  <tbody>\n",
       "  </tbody>\n",
       "</table>\n",
       "</div>"
      ],
      "text/plain": [
       "Empty DataFrame\n",
       "Columns: [record_id, service_date, service_name, service_amount, service_number, insured, sex_id, age_for_service_date, year, month, mon_year, category, service_price]\n",
       "Index: []"
      ]
     },
     "execution_count": 15,
     "metadata": {},
     "output_type": "execute_result"
    },
    {
     "data": {
      "text/plain": [
       "Series([], Name: service_name, dtype: object)"
      ]
     },
     "execution_count": 15,
     "metadata": {},
     "output_type": "execute_result"
    }
   ],
   "source": [
    "# распределяем по категориям \n",
    "try:\n",
    "    df['category'] = df['service_name'].str.lower().apply(cat)\n",
    "except:\n",
    "    pass\n",
    "print('Количество строк каждой категории')\n",
    "# сколько позиций каждой категории\n",
    "df['category'].value_counts()\n",
    "# проверим, что распределили все позиции по категориям\n",
    "df['category'].isna().sum()\n",
    "df[df['category'].isna() == True]\n",
    "df[df['category'].isna() == True]['service_name'].head()"
   ]
  },
  {
   "cell_type": "markdown",
   "id": "56a8ad64",
   "metadata": {},
   "source": [
    "Разобьем данные на две выборки по году"
   ]
  },
  {
   "cell_type": "code",
   "execution_count": 16,
   "id": "86f36a3c",
   "metadata": {},
   "outputs": [
    {
     "name": "stdout",
     "output_type": "stream",
     "text": [
      "Соотношение строк в датасетах по годам\n"
     ]
    },
    {
     "data": {
      "text/plain": [
       "2021    43895\n",
       "2022    40490\n",
       "Name: year, dtype: int64"
      ]
     },
     "execution_count": 16,
     "metadata": {},
     "output_type": "execute_result"
    }
   ],
   "source": [
    "# теперь данные будут представлены таблицами по годам\n",
    "df21 = df.loc[df['year']==2021]\n",
    "df22 = df.loc[df['year']==2022]\n",
    "print('Соотношение строк в датасетах по годам')\n",
    "pd.concat([df21['year'].value_counts(),df22['year'].value_counts()])"
   ]
  },
  {
   "cell_type": "markdown",
   "id": "4a0fc450",
   "metadata": {},
   "source": [
    "#### Не взирая на то, что данные за 2022 год предствалены за 3/4 периода, в отличии от полных данных 2021 года - выборки получились близкими по размеру. Вероятно, в 2022 году преобретают больше услуг или произошло дробление услуг на большее количество строк. Наши предположения проверим в следующем блоке"
   ]
  },
  {
   "cell_type": "markdown",
   "id": "5f13dd3f",
   "metadata": {},
   "source": [
    "#### [-> Содержание](#sod)"
   ]
  },
  {
   "cell_type": "markdown",
   "id": "aa3c88e7",
   "metadata": {},
   "source": [
    "### Шаг 3. Исследовательский анализ данных <a class=\"anchor\" id=\"sh3\"></a> \n"
   ]
  },
  {
   "cell_type": "markdown",
   "id": "36a9480b",
   "metadata": {},
   "source": [
    "<div class=\"alert alert-secondary\"; style=\"border-left: 7px solid red\">\n",
    "<b> <u>План: </u>  \n",
    "    \n",
    "    1) Как менялась цена по месяцам и на какие категории товаров?\n",
    "    \n",
    "    2) Как пациенты среагировали на изменение цен?\n",
    "    \n",
    "    3) Портрет пациента\n",
    "    \n",
    "    4) Сравнение прибыли за аналогичные периоды 2021 года и 2022 года\n",
    "    \n",
    "    \n",
    "<u>Гипотезы:</u>\n",
    "    \n",
    "    1) Скачки прибыли вызваны пациентами определенных половозрастных групп\n",
    "    \n",
    "    2) Средняя стоимость обслуживания пациентов изменилась из-за изменения структуры оказываемых услуг (раньше были дорогие услуги, теперь дешевые или наоборот) \n",
    "</b>   \n",
    "</div>\n",
    "\n"
   ]
  },
  {
   "cell_type": "markdown",
   "id": "23247854",
   "metadata": {},
   "source": [
    "#### 3.1. Исследование изменений цены услуг\n",
    "\n",
    "\n",
    "**Сколько раз менялась цена?**"
   ]
  },
  {
   "cell_type": "code",
   "execution_count": 17,
   "id": "92c05607",
   "metadata": {},
   "outputs": [
    {
     "name": "stdout",
     "output_type": "stream",
     "text": [
      "В клинике 772 уникальных услуг\n",
      "Количество уникальных цен на каждую услугу\n"
     ]
    },
    {
     "data": {
      "text/plain": [
       "service_price\n",
       "2                283\n",
       "3                246\n",
       "1                233\n",
       "4                  8\n",
       "5                  2\n",
       "dtype: int64"
      ]
     },
     "execution_count": 17,
     "metadata": {},
     "output_type": "execute_result"
    }
   ],
   "source": [
    "# Сколько уникальных услуг в клинике?\n",
    "print('В клинике {} уникальных услуг'.format(df['service_name'].nunique()))\n",
    "# Сколько раз менялась ценв\n",
    "print('Количество уникальных цен на каждую услугу')\n",
    "service_name = df.pivot_table(index = ['service_name'],\n",
    "                              values = 'service_price',\n",
    "                              aggfunc = 'nunique')\n",
    "service_name.value_counts()"
   ]
  },
  {
   "cell_type": "markdown",
   "id": "cb788aeb",
   "metadata": {},
   "source": [
    "#### На 10 услуг стоимость менялась 4-5 раз за период исследованя, на 233 услуги стоимость не менялась вообще, для остальных менялась 2-3 раза\n",
    "\n",
    "\n",
    "#### Необходимо сравнить стоимость услуг, присутствующих одновременно в 2021 и в 2022, сколько это от выборки? Посмотрим по ним динамику роста цен"
   ]
  },
  {
   "cell_type": "code",
   "execution_count": 18,
   "id": "3e9546c0",
   "metadata": {},
   "outputs": [
    {
     "name": "stdout",
     "output_type": "stream",
     "text": [
      "Распределение услуг по годам. 1-только в одном из лет,2- в обоих годах\n"
     ]
    },
    {
     "data": {
      "text/plain": [
       "2    512\n",
       "1    260\n",
       "Name: year, dtype: int64"
      ]
     },
     "execution_count": 18,
     "metadata": {},
     "output_type": "execute_result"
    },
    {
     "data": {
      "text/html": [
       "<div>\n",
       "<style scoped>\n",
       "    .dataframe tbody tr th:only-of-type {\n",
       "        vertical-align: middle;\n",
       "    }\n",
       "\n",
       "    .dataframe tbody tr th {\n",
       "        vertical-align: top;\n",
       "    }\n",
       "\n",
       "    .dataframe thead th {\n",
       "        text-align: right;\n",
       "    }\n",
       "</style>\n",
       "<table border=\"1\" class=\"dataframe\">\n",
       "  <thead>\n",
       "    <tr style=\"text-align: right;\">\n",
       "      <th></th>\n",
       "      <th></th>\n",
       "      <th>2021-01</th>\n",
       "      <th>2021-02</th>\n",
       "      <th>2021-03</th>\n",
       "      <th>2021-04</th>\n",
       "      <th>2021-05</th>\n",
       "      <th>2021-06</th>\n",
       "      <th>2021-07</th>\n",
       "      <th>2021-08</th>\n",
       "      <th>2021-09</th>\n",
       "      <th>2021-10</th>\n",
       "      <th>2021-11</th>\n",
       "      <th>2021-12</th>\n",
       "      <th>2022-01</th>\n",
       "      <th>2022-02</th>\n",
       "      <th>2022-03</th>\n",
       "      <th>2022-04</th>\n",
       "      <th>2022-05</th>\n",
       "      <th>2022-06</th>\n",
       "      <th>2022-07</th>\n",
       "      <th>2022-08</th>\n",
       "    </tr>\n",
       "    <tr>\n",
       "      <th>category</th>\n",
       "      <th>service_name</th>\n",
       "      <th></th>\n",
       "      <th></th>\n",
       "      <th></th>\n",
       "      <th></th>\n",
       "      <th></th>\n",
       "      <th></th>\n",
       "      <th></th>\n",
       "      <th></th>\n",
       "      <th></th>\n",
       "      <th></th>\n",
       "      <th></th>\n",
       "      <th></th>\n",
       "      <th></th>\n",
       "      <th></th>\n",
       "      <th></th>\n",
       "      <th></th>\n",
       "      <th></th>\n",
       "      <th></th>\n",
       "      <th></th>\n",
       "      <th></th>\n",
       "    </tr>\n",
       "  </thead>\n",
       "  <tbody>\n",
       "    <tr>\n",
       "      <th rowspan=\"5\" valign=\"top\">анализы</th>\n",
       "      <th>(Б1 (11))Аллергопанель IgE шерсть кошки, шерсть собаки, шерсть овцы, клещ D,pteroniss, клещ D.farina, пыль домашняя, перо подушки, библиотечная пыль)</th>\n",
       "      <td>1,449.00</td>\n",
       "      <td>1,449.00</td>\n",
       "      <td>1,449.00</td>\n",
       "      <td>1,449.00</td>\n",
       "      <td>1,449.00</td>\n",
       "      <td>1,449.00</td>\n",
       "      <td>1,449.00</td>\n",
       "      <td>1,449.00</td>\n",
       "      <td>1,449.00</td>\n",
       "      <td>1,520.00</td>\n",
       "      <td>1,520.00</td>\n",
       "      <td>1,520.00</td>\n",
       "      <td>1,520.00</td>\n",
       "      <td>1,520.00</td>\n",
       "      <td>1,520.00</td>\n",
       "      <td>1,520.00</td>\n",
       "      <td>1,520.00</td>\n",
       "      <td>1,520.00</td>\n",
       "      <td>1,520.00</td>\n",
       "      <td>1,520.00</td>\n",
       "    </tr>\n",
       "    <tr>\n",
       "      <th>17-OH - гидроксипрогестерон</th>\n",
       "      <td>610.00</td>\n",
       "      <td>610.00</td>\n",
       "      <td>610.00</td>\n",
       "      <td>610.00</td>\n",
       "      <td>610.00</td>\n",
       "      <td>610.00</td>\n",
       "      <td>610.00</td>\n",
       "      <td>610.00</td>\n",
       "      <td>610.00</td>\n",
       "      <td>610.00</td>\n",
       "      <td>610.00</td>\n",
       "      <td>610.00</td>\n",
       "      <td>610.00</td>\n",
       "      <td>610.00</td>\n",
       "      <td>610.00</td>\n",
       "      <td>610.00</td>\n",
       "      <td>610.00</td>\n",
       "      <td>610.00</td>\n",
       "      <td>610.00</td>\n",
       "      <td>610.00</td>\n",
       "    </tr>\n",
       "    <tr>\n",
       "      <th>25-OH витамин D (25-гидроксихолекальциферол)</th>\n",
       "      <td>3,255.00</td>\n",
       "      <td>3,255.00</td>\n",
       "      <td>3,255.00</td>\n",
       "      <td>3,255.00</td>\n",
       "      <td>3,255.00</td>\n",
       "      <td>3,255.00</td>\n",
       "      <td>3,255.00</td>\n",
       "      <td>3,255.00</td>\n",
       "      <td>3,255.00</td>\n",
       "      <td>3,420.00</td>\n",
       "      <td>3,420.00</td>\n",
       "      <td>3,420.00</td>\n",
       "      <td>3,420.00</td>\n",
       "      <td>3,420.00</td>\n",
       "      <td>3,420.00</td>\n",
       "      <td>3,420.00</td>\n",
       "      <td>3,420.00</td>\n",
       "      <td>3,420.00</td>\n",
       "      <td>3,420.00</td>\n",
       "      <td>3,420.00</td>\n",
       "    </tr>\n",
       "    <tr>\n",
       "      <th>Bordetella (pertusis) IgA</th>\n",
       "      <td>970.00</td>\n",
       "      <td>970.00</td>\n",
       "      <td>970.00</td>\n",
       "      <td>970.00</td>\n",
       "      <td>970.00</td>\n",
       "      <td>970.00</td>\n",
       "      <td>970.00</td>\n",
       "      <td>970.00</td>\n",
       "      <td>970.00</td>\n",
       "      <td>970.00</td>\n",
       "      <td>970.00</td>\n",
       "      <td>970.00</td>\n",
       "      <td>970.00</td>\n",
       "      <td>970.00</td>\n",
       "      <td>970.00</td>\n",
       "      <td>970.00</td>\n",
       "      <td>970.00</td>\n",
       "      <td>970.00</td>\n",
       "      <td>970.00</td>\n",
       "      <td>970.00</td>\n",
       "    </tr>\n",
       "    <tr>\n",
       "      <th>Bordetella (pertusis) IgG</th>\n",
       "      <td>630.00</td>\n",
       "      <td>630.00</td>\n",
       "      <td>630.00</td>\n",
       "      <td>630.00</td>\n",
       "      <td>630.00</td>\n",
       "      <td>630.00</td>\n",
       "      <td>630.00</td>\n",
       "      <td>630.00</td>\n",
       "      <td>630.00</td>\n",
       "      <td>630.00</td>\n",
       "      <td>630.00</td>\n",
       "      <td>630.00</td>\n",
       "      <td>630.00</td>\n",
       "      <td>630.00</td>\n",
       "      <td>630.00</td>\n",
       "      <td>630.00</td>\n",
       "      <td>630.00</td>\n",
       "      <td>630.00</td>\n",
       "      <td>690.00</td>\n",
       "      <td>690.00</td>\n",
       "    </tr>\n",
       "  </tbody>\n",
       "</table>\n",
       "</div>"
      ],
      "text/plain": [
       "                                                             2021-01  2021-02  \\\n",
       "category service_name                                                           \n",
       "анализы  (Б1 (11))Аллергопанель IgE шерсть кошки, шерсть... 1,449.00 1,449.00   \n",
       "         17-OH - гидроксипрогестерон                          610.00   610.00   \n",
       "         25-OH витамин D (25-гидроксихолекальциферол)       3,255.00 3,255.00   \n",
       "         Bordetella (pertusis) IgA                            970.00   970.00   \n",
       "         Bordetella (pertusis) IgG                            630.00   630.00   \n",
       "\n",
       "                                                             2021-03  2021-04  \\\n",
       "category service_name                                                           \n",
       "анализы  (Б1 (11))Аллергопанель IgE шерсть кошки, шерсть... 1,449.00 1,449.00   \n",
       "         17-OH - гидроксипрогестерон                          610.00   610.00   \n",
       "         25-OH витамин D (25-гидроксихолекальциферол)       3,255.00 3,255.00   \n",
       "         Bordetella (pertusis) IgA                            970.00   970.00   \n",
       "         Bordetella (pertusis) IgG                            630.00   630.00   \n",
       "\n",
       "                                                             2021-05  2021-06  \\\n",
       "category service_name                                                           \n",
       "анализы  (Б1 (11))Аллергопанель IgE шерсть кошки, шерсть... 1,449.00 1,449.00   \n",
       "         17-OH - гидроксипрогестерон                          610.00   610.00   \n",
       "         25-OH витамин D (25-гидроксихолекальциферол)       3,255.00 3,255.00   \n",
       "         Bordetella (pertusis) IgA                            970.00   970.00   \n",
       "         Bordetella (pertusis) IgG                            630.00   630.00   \n",
       "\n",
       "                                                             2021-07  2021-08  \\\n",
       "category service_name                                                           \n",
       "анализы  (Б1 (11))Аллергопанель IgE шерсть кошки, шерсть... 1,449.00 1,449.00   \n",
       "         17-OH - гидроксипрогестерон                          610.00   610.00   \n",
       "         25-OH витамин D (25-гидроксихолекальциферол)       3,255.00 3,255.00   \n",
       "         Bordetella (pertusis) IgA                            970.00   970.00   \n",
       "         Bordetella (pertusis) IgG                            630.00   630.00   \n",
       "\n",
       "                                                             2021-09  2021-10  \\\n",
       "category service_name                                                           \n",
       "анализы  (Б1 (11))Аллергопанель IgE шерсть кошки, шерсть... 1,449.00 1,520.00   \n",
       "         17-OH - гидроксипрогестерон                          610.00   610.00   \n",
       "         25-OH витамин D (25-гидроксихолекальциферол)       3,255.00 3,420.00   \n",
       "         Bordetella (pertusis) IgA                            970.00   970.00   \n",
       "         Bordetella (pertusis) IgG                            630.00   630.00   \n",
       "\n",
       "                                                             2021-11  2021-12  \\\n",
       "category service_name                                                           \n",
       "анализы  (Б1 (11))Аллергопанель IgE шерсть кошки, шерсть... 1,520.00 1,520.00   \n",
       "         17-OH - гидроксипрогестерон                          610.00   610.00   \n",
       "         25-OH витамин D (25-гидроксихолекальциферол)       3,420.00 3,420.00   \n",
       "         Bordetella (pertusis) IgA                            970.00   970.00   \n",
       "         Bordetella (pertusis) IgG                            630.00   630.00   \n",
       "\n",
       "                                                             2022-01  2022-02  \\\n",
       "category service_name                                                           \n",
       "анализы  (Б1 (11))Аллергопанель IgE шерсть кошки, шерсть... 1,520.00 1,520.00   \n",
       "         17-OH - гидроксипрогестерон                          610.00   610.00   \n",
       "         25-OH витамин D (25-гидроксихолекальциферол)       3,420.00 3,420.00   \n",
       "         Bordetella (pertusis) IgA                            970.00   970.00   \n",
       "         Bordetella (pertusis) IgG                            630.00   630.00   \n",
       "\n",
       "                                                             2022-03  2022-04  \\\n",
       "category service_name                                                           \n",
       "анализы  (Б1 (11))Аллергопанель IgE шерсть кошки, шерсть... 1,520.00 1,520.00   \n",
       "         17-OH - гидроксипрогестерон                          610.00   610.00   \n",
       "         25-OH витамин D (25-гидроксихолекальциферол)       3,420.00 3,420.00   \n",
       "         Bordetella (pertusis) IgA                            970.00   970.00   \n",
       "         Bordetella (pertusis) IgG                            630.00   630.00   \n",
       "\n",
       "                                                             2022-05  2022-06  \\\n",
       "category service_name                                                           \n",
       "анализы  (Б1 (11))Аллергопанель IgE шерсть кошки, шерсть... 1,520.00 1,520.00   \n",
       "         17-OH - гидроксипрогестерон                          610.00   610.00   \n",
       "         25-OH витамин D (25-гидроксихолекальциферол)       3,420.00 3,420.00   \n",
       "         Bordetella (pertusis) IgA                            970.00   970.00   \n",
       "         Bordetella (pertusis) IgG                            630.00   630.00   \n",
       "\n",
       "                                                             2022-07  2022-08  \n",
       "category service_name                                                          \n",
       "анализы  (Б1 (11))Аллергопанель IgE шерсть кошки, шерсть... 1,520.00 1,520.00  \n",
       "         17-OH - гидроксипрогестерон                          610.00   610.00  \n",
       "         25-OH витамин D (25-гидроксихолекальциферол)       3,420.00 3,420.00  \n",
       "         Bordetella (pertusis) IgA                            970.00   970.00  \n",
       "         Bordetella (pertusis) IgG                            690.00   690.00  "
      ]
     },
     "execution_count": 18,
     "metadata": {},
     "output_type": "execute_result"
    }
   ],
   "source": [
    "# Стоимость услуг по месяцам и в скольких годах они были\n",
    "service_name = df.pivot_table(index = ['category','service_name'],\n",
    "                                   columns = ['mon_year'],\n",
    "                                   values = 'service_price',\n",
    "                                   aggfunc = 'max'\n",
    "       ).join(\n",
    "       df.pivot_table(index = ['category','service_name'],\n",
    "                      values = ['year'],\n",
    "                      aggfunc = 'nunique'))\n",
    "\n",
    "# распределение услуг по годам\n",
    "print('Распределение услуг по годам. 1-только в одном из лет,2- в обоих годах')\n",
    "service_name['year'].value_counts()\n",
    "\n",
    "# для графика оставляем только услуги, присутствовавшие в обоих периодах(годах)\n",
    "service_name_clean = service_name.loc[service_name['year']==2].drop('year',axis = 1)\n",
    "\n",
    "# Заполним пропуски: сначала ближайшим левым значением\n",
    "service_name_clean = service_name_clean.fillna(method='ffill',axis =1)\n",
    "# Заполним пропуски: ячейки NaN до первого значения - заполним им\n",
    "service_name_clean = service_name_clean.fillna(method='bfill',axis =1)\n",
    "service_name_clean.head()"
   ]
  },
  {
   "cell_type": "code",
   "execution_count": 19,
   "id": "c32d0811",
   "metadata": {},
   "outputs": [
    {
     "data": {
      "image/png": "[encoded data removed]",
      "text/plain": [
       "<Figure size 864x576 with 1 Axes>"
      ]
     },
     "metadata": {
      "needs_background": "light"
     },
     "output_type": "display_data"
    }
   ],
   "source": [
    "# проведем нормирование - разделим стоимости услуг на стоимость на начало периода,\n",
    "# вычтем 1 и умножим на 100 - получим прирост стоимости в %\n",
    "service_name_clean_norm = (100*(service_name_clean.div(service_name_clean[service_name_clean.columns[0]],\n",
    "                                         axis=0)-1))\n",
    "price_diff = service_name_clean_norm.median()\n",
    "\n",
    "# строим график по медиальным значениям прироста\n",
    "# задаем размер графика\n",
    "plt.figure(figsize=(12, 8))\n",
    "ax = price_diff[price_diff.index[:13]].plot()\n",
    "bx = price_diff[price_diff.index[13:]].plot()\n",
    "plt.legend(['2021 год','2022 год'])\n",
    "plt.grid(True)\n",
    "plt.title('График прироста стоимости услуг по годам в %')\n",
    "plt.xlabel('Месяц')\n",
    "plt.ylabel('Медиальный процент прироста, %')\n",
    "plt.xticks(rotation=45)\n",
    "plt.xticks(ticks= [i for i in range(1, 13)],\n",
    "           labels = ['Январь','Февраль','Март','Апрель','Май','Июнь',\n",
    "                     'Июль','Август','Сентябрь','Октябрь','Ноябрь','Декабрь'])\n",
    "plt.show();"
   ]
  },
  {
   "cell_type": "markdown",
   "id": "569ebc2c",
   "metadata": {},
   "source": [
    "#### Наблюдаем медиальный рост стоимости услуг в 2 основных этапа - октябрь-ноябрь 2021 года и июль-август 2022 года\n",
    "\n",
    "#### Интересно, стоимость только росла?\n"
   ]
  },
  {
   "cell_type": "code",
   "execution_count": 20,
   "id": "46d6d7ec",
   "metadata": {},
   "outputs": [
    {
     "name": "stdout",
     "output_type": "stream",
     "text": [
      "В 11 случаях стоимость снижалась\n",
      "----------------------------------------------------------------------------------------------------\n",
      "Таблица падения цен: месяц - количество услуг со снижением стоимости\n"
     ]
    },
    {
     "data": {
      "text/html": [
       "<div>\n",
       "<style scoped>\n",
       "    .dataframe tbody tr th:only-of-type {\n",
       "        vertical-align: middle;\n",
       "    }\n",
       "\n",
       "    .dataframe tbody tr th {\n",
       "        vertical-align: top;\n",
       "    }\n",
       "\n",
       "    .dataframe thead th {\n",
       "        text-align: right;\n",
       "    }\n",
       "</style>\n",
       "<table border=\"1\" class=\"dataframe\">\n",
       "  <thead>\n",
       "    <tr style=\"text-align: right;\">\n",
       "      <th></th>\n",
       "      <th>месяц</th>\n",
       "      <th>кол-во_услуг</th>\n",
       "    </tr>\n",
       "  </thead>\n",
       "  <tbody>\n",
       "    <tr>\n",
       "      <th>0</th>\n",
       "      <td>2021-08</td>\n",
       "      <td>1</td>\n",
       "    </tr>\n",
       "    <tr>\n",
       "      <th>1</th>\n",
       "      <td>2021-11</td>\n",
       "      <td>1</td>\n",
       "    </tr>\n",
       "    <tr>\n",
       "      <th>2</th>\n",
       "      <td>2022-02</td>\n",
       "      <td>1</td>\n",
       "    </tr>\n",
       "    <tr>\n",
       "      <th>3</th>\n",
       "      <td>2022-03</td>\n",
       "      <td>2</td>\n",
       "    </tr>\n",
       "    <tr>\n",
       "      <th>4</th>\n",
       "      <td>2022-06</td>\n",
       "      <td>2</td>\n",
       "    </tr>\n",
       "    <tr>\n",
       "      <th>5</th>\n",
       "      <td>2022-07</td>\n",
       "      <td>2</td>\n",
       "    </tr>\n",
       "    <tr>\n",
       "      <th>6</th>\n",
       "      <td>2022-08</td>\n",
       "      <td>2</td>\n",
       "    </tr>\n",
       "  </tbody>\n",
       "</table>\n",
       "</div>"
      ],
      "text/plain": [
       "     месяц  кол-во_услуг\n",
       "0  2021-08             1\n",
       "1  2021-11             1\n",
       "2  2022-02             1\n",
       "3  2022-03             2\n",
       "4  2022-06             2\n",
       "5  2022-07             2\n",
       "6  2022-08             2"
      ]
     },
     "execution_count": 20,
     "metadata": {},
     "output_type": "execute_result"
    }
   ],
   "source": [
    "print('В {} случаях стоимость снижалась'.format((service_name_clean.diff(axis=1)<0).sum().sum()))\n",
    "down_price = (service_name_clean.diff(axis=1)<0).sum()\n",
    "print('-'*100)\n",
    "print('Таблица падения цен: месяц - количество услуг со снижением стоимости')\n",
    "down_price = down_price[down_price>0].reset_index()\n",
    "down_price.columns = ['месяц','кол-во_услуг']\n",
    "down_price"
   ]
  },
  {
   "cell_type": "markdown",
   "id": "856f91d7",
   "metadata": {},
   "source": [
    "#### На 11 услуг стоимость снижалась - вероятно были маркетинговые акции"
   ]
  },
  {
   "cell_type": "markdown",
   "id": "8e081fcf",
   "metadata": {},
   "source": [
    "#### 3) Сопоставить динамику цен с динамикой доходов"
   ]
  },
  {
   "cell_type": "code",
   "execution_count": 21,
   "id": "9b4dc008",
   "metadata": {},
   "outputs": [
    {
     "data": {
      "image/png": "[encoded data removed]",
      "text/plain": [
       "<Figure size 864x576 with 1 Axes>"
      ]
     },
     "metadata": {
      "needs_background": "light"
     },
     "output_type": "display_data"
    }
   ],
   "source": [
    "# Сгруппируем доход по месяцам, пронурмируем на значение первого месяца и выведем прирост в процентах дохода\n",
    "service_amount = df.groupby(by='mon_year')['service_amount'].sum()\n",
    "service_amount_norm = 100*service_amount/service_amount['2021-01']-100\n",
    "\n",
    "\n",
    "data = pd.concat([price_diff,service_amount], axis=1)\n",
    "data = pd.concat([data,service_amount_norm], axis=1)\n",
    "data.columns = ['Прирост_цены%','Доход','Прирост_дохода%']\n",
    "\n",
    "\n",
    "# строим график по медиальным значениям прироста\n",
    "plt.figure(figsize=(12, 8))\n",
    "service_amount_norm[service_amount_norm.index[:13]].plot()\n",
    "service_amount_norm[service_amount_norm.index[12:]].plot()\n",
    "plt.legend(['2021 год','2022 год'])\n",
    "plt.grid(True)\n",
    "plt.title('График прироста дохода клиники по годам в %')\n",
    "plt.xlabel('Месяц')\n",
    "plt.ylabel('Процент прироста, %')\n",
    "plt.xticks(rotation=45)\n",
    "\n",
    "plt.show();"
   ]
  },
  {
   "cell_type": "code",
   "execution_count": 22,
   "id": "cd8dd753",
   "metadata": {},
   "outputs": [
    {
     "name": "stdout",
     "output_type": "stream",
     "text": [
      "Прирост в процентах дохода\n",
      "         Прирост_цены%    Доход  Прирост_дохода%\n",
      "2021-01           0.00  2208448             0.00\n",
      "2021-02           0.00  2257020             2.20\n",
      "2021-03           0.00  3804828            72.29\n",
      "2021-04           0.00  4204131            90.37\n",
      "2021-05           0.00  4089090            85.16\n",
      "2021-06           0.00  4188210            89.64\n",
      "2021-07           0.00  3715248            68.23\n",
      "2021-08           0.00  4148781            87.86\n",
      "2021-09           0.00  4581379           107.45\n",
      "2021-10           2.30  5750650           160.39\n",
      "2021-11           4.53  4514740           104.43\n",
      "2021-12           4.76  4807540           117.69\n",
      "2022-01           4.76  4701430           112.88\n",
      "2022-02           4.76  5157405           133.53\n",
      "2022-03           4.76  6172050           179.47\n",
      "2022-04           4.80  7706500           248.96\n",
      "2022-05           4.82  7276560           229.49\n",
      "2022-06           4.85  6612720           199.43\n",
      "2022-07           5.82  5753841           160.54\n",
      "2022-08           6.92  3485440            57.82\n",
      "------------------------------------------------------------\n",
      "Таблица корреляции прироста стоимости и пророста дохода\n",
      "                 Прирост_цены%  Доход  Прирост_дохода%\n",
      "Прирост_цены%             1.00   0.59             0.59\n",
      "Доход                     0.59   1.00             1.00\n",
      "Прирост_дохода%           0.59   1.00             1.00\n"
     ]
    }
   ],
   "source": [
    "print('Прирост в процентах дохода')\n",
    "print(data)\n",
    "print('-'*60)\n",
    "print('Таблица корреляции прироста стоимости и пророста дохода')\n",
    "print(data.corr())"
   ]
  },
  {
   "cell_type": "markdown",
   "id": "c860ad3e",
   "metadata": {},
   "source": [
    "#### Клиника за период исследования увеличила свои доходы более чем в 2 раза, но с мая 2022 года доход начал падать. Активность пациентов в летний период падает и в 2021 году. Достатоно высокий коэфициэнт корреляции между приростом стоимости и приростом прибыли 0.59 не оправдывается на графиках: прирост стоимости услуг в октябре-ноябре 2021 и  в июне 2022 года вызвал снижение дохода. Теперь нужно понять снижение продаж произошло за счет снижения количества покупок услуг, новых пользователей, среднего чека постоянных пациентов."
   ]
  },
  {
   "cell_type": "markdown",
   "id": "afd62641",
   "metadata": {},
   "source": [
    "#### Оценим средний чек "
   ]
  },
  {
   "cell_type": "code",
   "execution_count": 23,
   "id": "cb6c2383",
   "metadata": {},
   "outputs": [
    {
     "data": {
      "text/html": [
       "<div>\n",
       "<style scoped>\n",
       "    .dataframe tbody tr th:only-of-type {\n",
       "        vertical-align: middle;\n",
       "    }\n",
       "\n",
       "    .dataframe tbody tr th {\n",
       "        vertical-align: top;\n",
       "    }\n",
       "\n",
       "    .dataframe thead tr th {\n",
       "        text-align: left;\n",
       "    }\n",
       "</style>\n",
       "<table border=\"1\" class=\"dataframe\">\n",
       "  <thead>\n",
       "    <tr>\n",
       "      <th>year</th>\n",
       "      <th colspan=\"12\" halign=\"left\">2021</th>\n",
       "    </tr>\n",
       "    <tr>\n",
       "      <th>month</th>\n",
       "      <th>1</th>\n",
       "      <th>2</th>\n",
       "      <th>3</th>\n",
       "      <th>4</th>\n",
       "      <th>5</th>\n",
       "      <th>6</th>\n",
       "      <th>7</th>\n",
       "      <th>8</th>\n",
       "      <th>9</th>\n",
       "      <th>10</th>\n",
       "      <th>11</th>\n",
       "      <th>12</th>\n",
       "    </tr>\n",
       "  </thead>\n",
       "  <tbody>\n",
       "    <tr>\n",
       "      <th>insured</th>\n",
       "      <td>285.00</td>\n",
       "      <td>308.00</td>\n",
       "      <td>443.00</td>\n",
       "      <td>465.00</td>\n",
       "      <td>466.00</td>\n",
       "      <td>433.00</td>\n",
       "      <td>447.00</td>\n",
       "      <td>487.00</td>\n",
       "      <td>558.00</td>\n",
       "      <td>586.00</td>\n",
       "      <td>536.00</td>\n",
       "      <td>558.00</td>\n",
       "    </tr>\n",
       "    <tr>\n",
       "      <th>service_amount</th>\n",
       "      <td>2,208,448.00</td>\n",
       "      <td>2,257,020.00</td>\n",
       "      <td>3,804,828.00</td>\n",
       "      <td>4,204,131.00</td>\n",
       "      <td>4,089,090.00</td>\n",
       "      <td>4,188,210.00</td>\n",
       "      <td>3,715,248.00</td>\n",
       "      <td>4,148,781.00</td>\n",
       "      <td>4,581,379.00</td>\n",
       "      <td>5,750,650.00</td>\n",
       "      <td>4,514,740.00</td>\n",
       "      <td>4,807,540.00</td>\n",
       "    </tr>\n",
       "    <tr>\n",
       "      <th>cheque</th>\n",
       "      <td>7,748.94</td>\n",
       "      <td>7,327.99</td>\n",
       "      <td>8,588.78</td>\n",
       "      <td>9,041.14</td>\n",
       "      <td>8,774.87</td>\n",
       "      <td>9,672.54</td>\n",
       "      <td>8,311.52</td>\n",
       "      <td>8,519.06</td>\n",
       "      <td>8,210.36</td>\n",
       "      <td>9,813.40</td>\n",
       "      <td>8,423.02</td>\n",
       "      <td>8,615.66</td>\n",
       "    </tr>\n",
       "  </tbody>\n",
       "</table>\n",
       "</div>"
      ],
      "text/plain": [
       "year                   2021                                         \\\n",
       "month                    1            2            3            4    \n",
       "insured              285.00       308.00       443.00       465.00   \n",
       "service_amount 2,208,448.00 2,257,020.00 3,804,828.00 4,204,131.00   \n",
       "cheque             7,748.94     7,327.99     8,588.78     9,041.14   \n",
       "\n",
       "year                                                                \\\n",
       "month                    5            6            7            8    \n",
       "insured              466.00       433.00       447.00       487.00   \n",
       "service_amount 4,089,090.00 4,188,210.00 3,715,248.00 4,148,781.00   \n",
       "cheque             8,774.87     9,672.54     8,311.52     8,519.06   \n",
       "\n",
       "year                                                                \n",
       "month                    9            10           11           12  \n",
       "insured              558.00       586.00       536.00       558.00  \n",
       "service_amount 4,581,379.00 5,750,650.00 4,514,740.00 4,807,540.00  \n",
       "cheque             8,210.36     9,813.40     8,423.02     8,615.66  "
      ]
     },
     "execution_count": 23,
     "metadata": {},
     "output_type": "execute_result"
    },
    {
     "name": "stdout",
     "output_type": "stream",
     "text": [
      "Средний чек за первые 8 месяцев 2021 года: 8498\n"
     ]
    },
    {
     "data": {
      "text/html": [
       "<div>\n",
       "<style scoped>\n",
       "    .dataframe tbody tr th:only-of-type {\n",
       "        vertical-align: middle;\n",
       "    }\n",
       "\n",
       "    .dataframe tbody tr th {\n",
       "        vertical-align: top;\n",
       "    }\n",
       "\n",
       "    .dataframe thead tr th {\n",
       "        text-align: left;\n",
       "    }\n",
       "</style>\n",
       "<table border=\"1\" class=\"dataframe\">\n",
       "  <thead>\n",
       "    <tr>\n",
       "      <th>year</th>\n",
       "      <th colspan=\"8\" halign=\"left\">2022</th>\n",
       "    </tr>\n",
       "    <tr>\n",
       "      <th>month</th>\n",
       "      <th>1</th>\n",
       "      <th>2</th>\n",
       "      <th>3</th>\n",
       "      <th>4</th>\n",
       "      <th>5</th>\n",
       "      <th>6</th>\n",
       "      <th>7</th>\n",
       "      <th>8</th>\n",
       "    </tr>\n",
       "  </thead>\n",
       "  <tbody>\n",
       "    <tr>\n",
       "      <th>insured</th>\n",
       "      <td>553.00</td>\n",
       "      <td>586.00</td>\n",
       "      <td>659.00</td>\n",
       "      <td>786.00</td>\n",
       "      <td>798.00</td>\n",
       "      <td>736.00</td>\n",
       "      <td>636.00</td>\n",
       "      <td>357.00</td>\n",
       "    </tr>\n",
       "    <tr>\n",
       "      <th>service_amount</th>\n",
       "      <td>4,701,430.00</td>\n",
       "      <td>5,157,405.00</td>\n",
       "      <td>6,172,050.00</td>\n",
       "      <td>7,706,500.00</td>\n",
       "      <td>7,276,560.00</td>\n",
       "      <td>6,612,720.00</td>\n",
       "      <td>5,753,841.00</td>\n",
       "      <td>3,485,440.00</td>\n",
       "    </tr>\n",
       "    <tr>\n",
       "      <th>cheque</th>\n",
       "      <td>8,501.68</td>\n",
       "      <td>8,801.03</td>\n",
       "      <td>9,365.78</td>\n",
       "      <td>9,804.71</td>\n",
       "      <td>9,118.50</td>\n",
       "      <td>8,984.67</td>\n",
       "      <td>9,046.92</td>\n",
       "      <td>9,763.14</td>\n",
       "    </tr>\n",
       "  </tbody>\n",
       "</table>\n",
       "</div>"
      ],
      "text/plain": [
       "year                   2022                                         \\\n",
       "month                     1            2            3            4   \n",
       "insured              553.00       586.00       659.00       786.00   \n",
       "service_amount 4,701,430.00 5,157,405.00 6,172,050.00 7,706,500.00   \n",
       "cheque             8,501.68     8,801.03     9,365.78     9,804.71   \n",
       "\n",
       "year                                                                \n",
       "month                     5            6            7            8  \n",
       "insured              798.00       736.00       636.00       357.00  \n",
       "service_amount 7,276,560.00 6,612,720.00 5,753,841.00 3,485,440.00  \n",
       "cheque             9,118.50     8,984.67     9,046.92     9,763.14  "
      ]
     },
     "execution_count": 23,
     "metadata": {},
     "output_type": "execute_result"
    },
    {
     "name": "stdout",
     "output_type": "stream",
     "text": [
      "Средний чек за первые 8 месяцев 2022 года: 9173\n",
      "Средний чек в 2022 году вырос на 7.95% по сравнению с 2021 годом\n"
     ]
    }
   ],
   "source": [
    "# подсчет среднего чека\n",
    "cheque = df.pivot_table(index = ['year','month'],\n",
    "               values = ['insured','service_amount'],\n",
    "               aggfunc = {'insured':'nunique',\n",
    "                          'service_amount':'sum'})\n",
    "cheque['cheque'] = cheque['service_amount']/cheque['insured']\n",
    "cheque[:12].T\n",
    "print('Средний чек за первые 8 месяцев 2021 года:',round(cheque[:8]['cheque'].mean()))\n",
    "cheque[12:].T\n",
    "print('Средний чек за первые 8 месяцев 2022 года:',round(cheque[12:]['cheque'].mean()))\n",
    "print('Средний чек в 2022 году вырос на {:.2f}% по сравнению с 2021 годом'.format(100*cheque[12:]['cheque'].mean()/cheque[:8]['cheque'].mean()-100))"
   ]
  },
  {
   "cell_type": "code",
   "execution_count": 24,
   "id": "49d7373d",
   "metadata": {},
   "outputs": [
    {
     "data": {
      "image/png": "[encoded data removed]",
      "text/plain": [
       "<Figure size 432x288 with 1 Axes>"
      ]
     },
     "metadata": {
      "needs_background": "light"
     },
     "output_type": "display_data"
    }
   ],
   "source": [
    "cheque['cheque'][:13].plot()\n",
    "cheque['cheque'][13:].plot()\n",
    "plt.grid(True)\n",
    "plt.title('Динамика среднего чека')\n",
    "plt.xlabel('Месяц')\n",
    "plt.ylabel('Сумма среднего чека')\n",
    "plt.legend(['2021 год','2022 год'])\n",
    "plt.xticks(ticks= [i for i in range(1, 13)],\n",
    "           labels = ['Январь','Февраль','Март','Апрель','Май','Июнь',\n",
    "                     'Июль','Август','Сентябрь','Октябрь','Ноябрь','Декабрь'])\n",
    "plt.xticks(rotation=45)\n",
    "plt.show();"
   ]
  },
  {
   "cell_type": "markdown",
   "id": "4223089e",
   "metadata": {},
   "source": [
    "#### Средний чек в сравнении аналогичных периодов 2021 года и 2022 года:\n",
    "- средний чек в 2022 году вырос на 7.95% по сравнению с 2021 годом\n",
    "- в начале года средний чек рос до мая в 2021 году и до февраля в 2021 году\n",
    "- в 2021 году прибыль медленно росла до окрября, средний чек рос до мая, упала летом и потом восстанавливилась\n",
    "- в 2022 году прибыль до апреля росла, а потом падала - средний чек же упал уже в марте: делаем вывод о наплыве пациентов и небольшим средним чеком с марта по май. Возможно имела место акция с низкой стоимостью услуги, которая принесла прибыль благодаря большому количеству пациентов"
   ]
  },
  {
   "cell_type": "markdown",
   "id": "1e1e7191",
   "metadata": {},
   "source": [
    "#### Прибыль с разбивкой по категориям"
   ]
  },
  {
   "cell_type": "code",
   "execution_count": 25,
   "id": "82691a2f",
   "metadata": {},
   "outputs": [
    {
     "data": {
      "image/png": "[encoded data removed]",
      "text/plain": [
       "<Figure size 432x288 with 1 Axes>"
      ]
     },
     "metadata": {
      "needs_background": "light"
     },
     "output_type": "display_data"
    }
   ],
   "source": [
    "# составим сводную таблицу с доходом по категориям\n",
    "category = df.pivot_table(index = 'mon_year',\n",
    "                          columns = 'category',\n",
    "                          values = 'service_amount',\n",
    "                          aggfunc = 'sum')\n",
    "# построим график прибыли\n",
    "category.plot()\n",
    "plt.grid(True)\n",
    "plt.title('График динамики продаж по категориям услуг')\n",
    "plt.xlabel('Месяц')\n",
    "plt.ylabel('Прибыль')\n",
    "plt.xticks(rotation=45)\n",
    "plt.show();"
   ]
  },
  {
   "cell_type": "markdown",
   "id": "5a9b37aa",
   "metadata": {},
   "source": [
    "#### Услуги категории \"прием\",\"исследования\",\"физеотерапия\" испытали небольшой скачек прибыли в октябре 2021 года, услуги категории \"манипуляции\" и \"анализы\" не испытали изменений.\n",
    "#### В апреле 2022 года резко (на 30%) выросли  суммы продаж по категориям \"прием\" и \"исследования\", например, для ситуации когда пациент приходит к врачу и направляется на исследование, например, ЭКГ. Возможно,данный рост связан с политической обстановкой в мире\n",
    "\n",
    "#### Разобьем услуги на категории по цене"
   ]
  },
  {
   "cell_type": "code",
   "execution_count": 26,
   "id": "134eeeb7",
   "metadata": {},
   "outputs": [
    {
     "data": {
      "image/png": "[encoded data removed]",
      "text/plain": [
       "<Figure size 432x288 with 1 Axes>"
      ]
     },
     "metadata": {
      "needs_background": "light"
     },
     "output_type": "display_data"
    }
   ],
   "source": [
    "# попробуем разбить услуги на категории по цене\n",
    "plt.hist(df['service_price'].unique())\n",
    "plt.title('Распределение стоимости услуг')\n",
    "plt.xlabel('Стоимость услуги')\n",
    "plt.ylabel('Количество услуг в интервале цен')\n",
    "plt.xticks(rotation=45)\n",
    "plt.show();"
   ]
  },
  {
   "cell_type": "code",
   "execution_count": 27,
   "id": "3c586ddc",
   "metadata": {},
   "outputs": [
    {
     "name": "stdout",
     "output_type": "stream",
     "text": [
      "Проверим разбивку по количеству раз покупок на категории цен на услуги\n"
     ]
    },
    {
     "data": {
      "text/plain": [
       "<1600   0.32\n",
       "<1300   0.31\n",
       "<500    0.23\n",
       ">1600   0.14\n",
       "Name: sort_price, dtype: float64"
      ]
     },
     "execution_count": 27,
     "metadata": {},
     "output_type": "execute_result"
    }
   ],
   "source": [
    "# разобьем услуги на категории по цене\n",
    "def sort(price):\n",
    "    if price<500:\n",
    "        return '<500'\n",
    "    elif price<1300:\n",
    "        return '<1300'\n",
    "    elif price<1600:\n",
    "        return '<1600'\n",
    "    else:\n",
    "        return '>1600'\n",
    "df['sort_price'] = df['service_price'].apply(sort)\n",
    "print('Проверим разбивку по количеству раз покупок на категории цен на услуги')\n",
    "df['sort_price'].value_counts()/df.shape[0]"
   ]
  },
  {
   "cell_type": "code",
   "execution_count": 28,
   "id": "49a2dc62",
   "metadata": {},
   "outputs": [
    {
     "data": {
      "image/png": "[encoded data removed]",
      "text/plain": [
       "<Figure size 432x288 with 1 Axes>"
      ]
     },
     "metadata": {
      "needs_background": "light"
     },
     "output_type": "display_data"
    }
   ],
   "source": [
    "df.pivot_table(index = 'mon_year',\n",
    "               columns = df['sort_price'],\n",
    "               values = 'service_number',\n",
    "               aggfunc = 'sum').plot()\n",
    "plt.title('Динамика количества купленных услуг по категориям стоимости')\n",
    "plt.xlabel('Дата')\n",
    "plt.ylabel('Количество услуг в интервале цен')\n",
    "\n",
    "plt.show();"
   ]
  },
  {
   "cell_type": "markdown",
   "id": "f593a0e2",
   "metadata": {},
   "source": [
    "#### Самые дешевые услуги оплачивают в 2 раза чаще, чем самые дорогие \n",
    "#### В марте 2021 года, вероятно, проводилась маркетинговая акция на только дешевые услуги, а в июле 2022 года -только на дорогие.  \n",
    "#### Есть прирост количества покупок услуг в октябре 2021года и апреле 2022 года \n",
    "\n",
    "\n",
    "#### Рассмотрим количество уникальных пациентов за месяц и прирост"
   ]
  },
  {
   "cell_type": "code",
   "execution_count": 29,
   "id": "d733c6ad",
   "metadata": {},
   "outputs": [
    {
     "data": {
      "text/html": [
       "<div>\n",
       "<style scoped>\n",
       "    .dataframe tbody tr th:only-of-type {\n",
       "        vertical-align: middle;\n",
       "    }\n",
       "\n",
       "    .dataframe tbody tr th {\n",
       "        vertical-align: top;\n",
       "    }\n",
       "\n",
       "    .dataframe thead th {\n",
       "        text-align: right;\n",
       "    }\n",
       "</style>\n",
       "<table border=\"1\" class=\"dataframe\">\n",
       "  <thead>\n",
       "    <tr style=\"text-align: right;\">\n",
       "      <th></th>\n",
       "      <th>2021-01</th>\n",
       "      <th>2021-02</th>\n",
       "      <th>2021-03</th>\n",
       "      <th>2021-04</th>\n",
       "      <th>2021-05</th>\n",
       "      <th>2021-06</th>\n",
       "      <th>2021-07</th>\n",
       "      <th>2021-08</th>\n",
       "      <th>2021-09</th>\n",
       "      <th>2021-10</th>\n",
       "      <th>2021-11</th>\n",
       "      <th>2021-12</th>\n",
       "      <th>2022-01</th>\n",
       "      <th>2022-02</th>\n",
       "      <th>2022-03</th>\n",
       "      <th>2022-04</th>\n",
       "      <th>2022-05</th>\n",
       "      <th>2022-06</th>\n",
       "      <th>2022-07</th>\n",
       "      <th>2022-08</th>\n",
       "    </tr>\n",
       "  </thead>\n",
       "  <tbody>\n",
       "    <tr>\n",
       "      <th>Пациенты</th>\n",
       "      <td>285</td>\n",
       "      <td>308</td>\n",
       "      <td>443</td>\n",
       "      <td>465</td>\n",
       "      <td>466</td>\n",
       "      <td>433</td>\n",
       "      <td>447</td>\n",
       "      <td>487</td>\n",
       "      <td>558</td>\n",
       "      <td>586</td>\n",
       "      <td>536</td>\n",
       "      <td>558</td>\n",
       "      <td>553</td>\n",
       "      <td>586</td>\n",
       "      <td>659</td>\n",
       "      <td>786</td>\n",
       "      <td>798</td>\n",
       "      <td>736</td>\n",
       "      <td>636</td>\n",
       "      <td>357</td>\n",
       "    </tr>\n",
       "    <tr>\n",
       "      <th>Нов_пац-ты</th>\n",
       "      <td>285</td>\n",
       "      <td>218</td>\n",
       "      <td>264</td>\n",
       "      <td>216</td>\n",
       "      <td>209</td>\n",
       "      <td>179</td>\n",
       "      <td>165</td>\n",
       "      <td>189</td>\n",
       "      <td>196</td>\n",
       "      <td>206</td>\n",
       "      <td>179</td>\n",
       "      <td>197</td>\n",
       "      <td>207</td>\n",
       "      <td>230</td>\n",
       "      <td>223</td>\n",
       "      <td>364</td>\n",
       "      <td>331</td>\n",
       "      <td>247</td>\n",
       "      <td>224</td>\n",
       "      <td>137</td>\n",
       "    </tr>\n",
       "  </tbody>\n",
       "</table>\n",
       "</div>"
      ],
      "text/plain": [
       "            2021-01  2021-02  2021-03  2021-04  2021-05  2021-06  2021-07  \\\n",
       "Пациенты        285      308      443      465      466      433      447   \n",
       "Нов_пац-ты      285      218      264      216      209      179      165   \n",
       "\n",
       "            2021-08  2021-09  2021-10  2021-11  2021-12  2022-01  2022-02  \\\n",
       "Пациенты        487      558      586      536      558      553      586   \n",
       "Нов_пац-ты      189      196      206      179      197      207      230   \n",
       "\n",
       "            2022-03  2022-04  2022-05  2022-06  2022-07  2022-08  \n",
       "Пациенты        659      786      798      736      636      357  \n",
       "Нов_пац-ты      223      364      331      247      224      137  "
      ]
     },
     "execution_count": 29,
     "metadata": {},
     "output_type": "execute_result"
    }
   ],
   "source": [
    "# рассмотрим количество уникальных пациентов за месяц и прирост %\n",
    "insured = df.groupby(by='mon_year')['insured'].nunique()\n",
    "# количество новых пользователей в каждый месяц\n",
    "insured_new = df.groupby(by = 'insured')['mon_year'].agg('first').value_counts()\n",
    "inc_con = pd.concat([insured,insured_new], axis=1).T\n",
    "inc_con.index = ['Пациенты','Нов_пац-ты']\n",
    "inc_con"
   ]
  },
  {
   "cell_type": "code",
   "execution_count": 30,
   "id": "206d25c8",
   "metadata": {},
   "outputs": [
    {
     "data": {
      "image/png": "[encoded data removed]",
      "text/plain": [
       "<Figure size 432x288 with 1 Axes>"
      ]
     },
     "metadata": {
      "needs_background": "light"
     },
     "output_type": "display_data"
    }
   ],
   "source": [
    "pd.concat([insured,insured_new], axis=1).plot()\n",
    "plt.grid(True)\n",
    "plt.title('График соотношения постоянных и новых пациентов')\n",
    "plt.xlabel('Месяц')\n",
    "plt.ylabel('Количество пациентов')\n",
    "plt.legend(['Пациенты', 'Новые пациенты'])\n",
    "plt.show();"
   ]
  },
  {
   "cell_type": "markdown",
   "id": "fe6842e0",
   "metadata": {},
   "source": [
    "#### C начала года 2021 года наблюдаем ежемесячный рост обслуживаемых пациентов и небольшим спадом в летние месяцы.\n",
    "#### Рост количества пациентов в 2 раза к октябрю не за счет новых пациентов, вероятно, вызвал рост цен в октябре и ноябре. Например, специалистов или помещений стало не хватать. Пришлось расширить пропускную способность клиники. Рост цен в ноябре на 5%  вызвал спад пациентов на 10% пациентов в декабре 2021 года. \n",
    "#### Посещения восстановились к марту 2022 года. Далее наметился резкий рост вплодь до апреля-мая 2022 года и такое же резкое снижение - в 2 раза к августу. Новый рост цен случился в июле 2022 года и вызвал спад активности пациентов на 15%, однако если сравнить июль в 2021 и в 2022 году  - количество пациентов выросло в 1,5 раза. \n",
    "#### Пик апреля 2022 года характеризуется более резким всплеском активности новых пользователей, это не сезонный фактор, скорее маркетинговая кампания или реакция людей на события в мире.\n",
    "----\n",
    "#### Обобщим данные на графике, прирост метрик выражен в % от значений января 2021 год - сравнение будет корректным"
   ]
  },
  {
   "cell_type": "code",
   "execution_count": 31,
   "id": "93ec5751",
   "metadata": {},
   "outputs": [
    {
     "data": {
      "text/html": [
       "<div>\n",
       "<style scoped>\n",
       "    .dataframe tbody tr th:only-of-type {\n",
       "        vertical-align: middle;\n",
       "    }\n",
       "\n",
       "    .dataframe tbody tr th {\n",
       "        vertical-align: top;\n",
       "    }\n",
       "\n",
       "    .dataframe thead th {\n",
       "        text-align: right;\n",
       "    }\n",
       "</style>\n",
       "<table border=\"1\" class=\"dataframe\">\n",
       "  <thead>\n",
       "    <tr style=\"text-align: right;\">\n",
       "      <th></th>\n",
       "      <th>Прирост_цены%</th>\n",
       "      <th>Доход</th>\n",
       "      <th>Прирост_дохода%</th>\n",
       "      <th>Пациенты_%</th>\n",
       "      <th>Пациенты_New_%</th>\n",
       "    </tr>\n",
       "  </thead>\n",
       "  <tbody>\n",
       "    <tr>\n",
       "      <th>2021-01</th>\n",
       "      <td>0.00</td>\n",
       "      <td>2208448</td>\n",
       "      <td>0.00</td>\n",
       "      <td>0.00</td>\n",
       "      <td>0.00</td>\n",
       "    </tr>\n",
       "    <tr>\n",
       "      <th>2021-02</th>\n",
       "      <td>0.00</td>\n",
       "      <td>2257020</td>\n",
       "      <td>2.20</td>\n",
       "      <td>8.07</td>\n",
       "      <td>-23.51</td>\n",
       "    </tr>\n",
       "    <tr>\n",
       "      <th>2021-03</th>\n",
       "      <td>0.00</td>\n",
       "      <td>3804828</td>\n",
       "      <td>72.29</td>\n",
       "      <td>55.44</td>\n",
       "      <td>-7.37</td>\n",
       "    </tr>\n",
       "    <tr>\n",
       "      <th>2021-04</th>\n",
       "      <td>0.00</td>\n",
       "      <td>4204131</td>\n",
       "      <td>90.37</td>\n",
       "      <td>63.16</td>\n",
       "      <td>-24.21</td>\n",
       "    </tr>\n",
       "    <tr>\n",
       "      <th>2021-05</th>\n",
       "      <td>0.00</td>\n",
       "      <td>4089090</td>\n",
       "      <td>85.16</td>\n",
       "      <td>63.51</td>\n",
       "      <td>-26.67</td>\n",
       "    </tr>\n",
       "    <tr>\n",
       "      <th>2021-06</th>\n",
       "      <td>0.00</td>\n",
       "      <td>4188210</td>\n",
       "      <td>89.64</td>\n",
       "      <td>51.93</td>\n",
       "      <td>-37.19</td>\n",
       "    </tr>\n",
       "    <tr>\n",
       "      <th>2021-07</th>\n",
       "      <td>0.00</td>\n",
       "      <td>3715248</td>\n",
       "      <td>68.23</td>\n",
       "      <td>56.84</td>\n",
       "      <td>-42.11</td>\n",
       "    </tr>\n",
       "    <tr>\n",
       "      <th>2021-08</th>\n",
       "      <td>0.00</td>\n",
       "      <td>4148781</td>\n",
       "      <td>87.86</td>\n",
       "      <td>70.88</td>\n",
       "      <td>-33.68</td>\n",
       "    </tr>\n",
       "    <tr>\n",
       "      <th>2021-09</th>\n",
       "      <td>0.00</td>\n",
       "      <td>4581379</td>\n",
       "      <td>107.45</td>\n",
       "      <td>95.79</td>\n",
       "      <td>-31.23</td>\n",
       "    </tr>\n",
       "    <tr>\n",
       "      <th>2021-10</th>\n",
       "      <td>2.30</td>\n",
       "      <td>5750650</td>\n",
       "      <td>160.39</td>\n",
       "      <td>105.61</td>\n",
       "      <td>-27.72</td>\n",
       "    </tr>\n",
       "    <tr>\n",
       "      <th>2021-11</th>\n",
       "      <td>4.53</td>\n",
       "      <td>4514740</td>\n",
       "      <td>104.43</td>\n",
       "      <td>88.07</td>\n",
       "      <td>-37.19</td>\n",
       "    </tr>\n",
       "    <tr>\n",
       "      <th>2021-12</th>\n",
       "      <td>4.76</td>\n",
       "      <td>4807540</td>\n",
       "      <td>117.69</td>\n",
       "      <td>95.79</td>\n",
       "      <td>-30.88</td>\n",
       "    </tr>\n",
       "    <tr>\n",
       "      <th>2022-01</th>\n",
       "      <td>4.76</td>\n",
       "      <td>4701430</td>\n",
       "      <td>112.88</td>\n",
       "      <td>94.04</td>\n",
       "      <td>-27.37</td>\n",
       "    </tr>\n",
       "    <tr>\n",
       "      <th>2022-02</th>\n",
       "      <td>4.76</td>\n",
       "      <td>5157405</td>\n",
       "      <td>133.53</td>\n",
       "      <td>105.61</td>\n",
       "      <td>-19.30</td>\n",
       "    </tr>\n",
       "    <tr>\n",
       "      <th>2022-03</th>\n",
       "      <td>4.76</td>\n",
       "      <td>6172050</td>\n",
       "      <td>179.47</td>\n",
       "      <td>131.23</td>\n",
       "      <td>-21.75</td>\n",
       "    </tr>\n",
       "    <tr>\n",
       "      <th>2022-04</th>\n",
       "      <td>4.80</td>\n",
       "      <td>7706500</td>\n",
       "      <td>248.96</td>\n",
       "      <td>175.79</td>\n",
       "      <td>27.72</td>\n",
       "    </tr>\n",
       "    <tr>\n",
       "      <th>2022-05</th>\n",
       "      <td>4.82</td>\n",
       "      <td>7276560</td>\n",
       "      <td>229.49</td>\n",
       "      <td>180.00</td>\n",
       "      <td>16.14</td>\n",
       "    </tr>\n",
       "    <tr>\n",
       "      <th>2022-06</th>\n",
       "      <td>4.85</td>\n",
       "      <td>6612720</td>\n",
       "      <td>199.43</td>\n",
       "      <td>158.25</td>\n",
       "      <td>-13.33</td>\n",
       "    </tr>\n",
       "    <tr>\n",
       "      <th>2022-07</th>\n",
       "      <td>5.82</td>\n",
       "      <td>5753841</td>\n",
       "      <td>160.54</td>\n",
       "      <td>123.16</td>\n",
       "      <td>-21.40</td>\n",
       "    </tr>\n",
       "    <tr>\n",
       "      <th>2022-08</th>\n",
       "      <td>6.92</td>\n",
       "      <td>3485440</td>\n",
       "      <td>57.82</td>\n",
       "      <td>25.26</td>\n",
       "      <td>-51.93</td>\n",
       "    </tr>\n",
       "  </tbody>\n",
       "</table>\n",
       "</div>"
      ],
      "text/plain": [
       "         Прирост_цены%    Доход  Прирост_дохода%  Пациенты_%  Пациенты_New_%\n",
       "2021-01           0.00  2208448             0.00        0.00            0.00\n",
       "2021-02           0.00  2257020             2.20        8.07          -23.51\n",
       "2021-03           0.00  3804828            72.29       55.44           -7.37\n",
       "2021-04           0.00  4204131            90.37       63.16          -24.21\n",
       "2021-05           0.00  4089090            85.16       63.51          -26.67\n",
       "2021-06           0.00  4188210            89.64       51.93          -37.19\n",
       "2021-07           0.00  3715248            68.23       56.84          -42.11\n",
       "2021-08           0.00  4148781            87.86       70.88          -33.68\n",
       "2021-09           0.00  4581379           107.45       95.79          -31.23\n",
       "2021-10           2.30  5750650           160.39      105.61          -27.72\n",
       "2021-11           4.53  4514740           104.43       88.07          -37.19\n",
       "2021-12           4.76  4807540           117.69       95.79          -30.88\n",
       "2022-01           4.76  4701430           112.88       94.04          -27.37\n",
       "2022-02           4.76  5157405           133.53      105.61          -19.30\n",
       "2022-03           4.76  6172050           179.47      131.23          -21.75\n",
       "2022-04           4.80  7706500           248.96      175.79           27.72\n",
       "2022-05           4.82  7276560           229.49      180.00           16.14\n",
       "2022-06           4.85  6612720           199.43      158.25          -13.33\n",
       "2022-07           5.82  5753841           160.54      123.16          -21.40\n",
       "2022-08           6.92  3485440            57.82       25.26          -51.93"
      ]
     },
     "execution_count": 31,
     "metadata": {},
     "output_type": "execute_result"
    },
    {
     "name": "stdout",
     "output_type": "stream",
     "text": [
      "Корреляция метрик с доходом\n"
     ]
    },
    {
     "data": {
      "text/plain": [
       "Прирост_цены%     0.59\n",
       "Доход             1.00\n",
       "Прирост_дохода%   1.00\n",
       "Пациенты_%        0.98\n",
       "Пациенты_New_%    0.52\n",
       "Name: Доход, dtype: float64"
      ]
     },
     "execution_count": 31,
     "metadata": {},
     "output_type": "execute_result"
    }
   ],
   "source": [
    "# пронормируем на первый месяц периода и выразим в процентах\n",
    "insured = 100*insured/insured['2021-01']-100\n",
    "insured_new = 100*insured_new/insured_new['2021-01']-100\n",
    "# присоединяем\n",
    "data = pd.concat([data,insured], axis=1)\n",
    "data = pd.concat([data,insured_new], axis=1)\n",
    "\n",
    "data = data.rename(columns = {'insured':'Пациенты_%',\n",
    "                              'mon_year':'Пациенты_New_%'})\n",
    "\n",
    "data\n",
    "print('Корреляция метрик с доходом')\n",
    "data.corr()['Доход']"
   ]
  },
  {
   "cell_type": "code",
   "execution_count": 32,
   "id": "cd001f23",
   "metadata": {},
   "outputs": [
    {
     "data": {
      "image/png": "[encoded data removed]",
      "text/plain": [
       "<Figure size 432x288 with 1 Axes>"
      ]
     },
     "metadata": {
      "needs_background": "light"
     },
     "output_type": "display_data"
    },
    {
     "data": {
      "image/png": "[encoded data removed]",
      "text/plain": [
       "<Figure size 432x288 with 1 Axes>"
      ]
     },
     "metadata": {
      "needs_background": "light"
     },
     "output_type": "display_data"
    }
   ],
   "source": [
    "# строим графики\n",
    "data['Прирост_цены%'].plot()\n",
    "plt.grid(True)\n",
    "plt.title('График прироста цен на услуги')\n",
    "plt.xlabel('Месяц')\n",
    "plt.ylabel('Процент прироста, %')\n",
    "plt.xticks(rotation=45)\n",
    "plt.show();\n",
    "\n",
    "data.drop(['Доход','Пациенты_New_%'],axis =1).plot()\n",
    "plt.grid(True)\n",
    "plt.title('График влияния роста цен на другие метрики')\n",
    "plt.xlabel('Месяц')\n",
    "plt.ylabel('Процент прироста, %')\n",
    "plt.xticks(rotation=45)\n",
    "plt.show();"
   ]
  },
  {
   "cell_type": "markdown",
   "id": "92342a57",
   "metadata": {},
   "source": [
    "#### Рост дохода произошел за счет роста активности пациентов и в меньшей степени за счет роста цен. Вероятно пациенты не начали тратить больше, а стали чаще обращаться.\n",
    "#### Можно предположить, что проводились акции, стимулирующие постоянных пациентов, а не привлекающие новых.\n",
    "\n",
    "\n",
    "#### Услуги и цены рассмотрели, теперь рассмотрим портрет типичного пользователя"
   ]
  },
  {
   "cell_type": "markdown",
   "id": "61e144aa",
   "metadata": {},
   "source": [
    "####  Профили пользователей "
   ]
  },
  {
   "cell_type": "code",
   "execution_count": 33,
   "id": "4f2eead5",
   "metadata": {},
   "outputs": [
    {
     "data": {
      "text/html": [
       "<div>\n",
       "<style scoped>\n",
       "    .dataframe tbody tr th:only-of-type {\n",
       "        vertical-align: middle;\n",
       "    }\n",
       "\n",
       "    .dataframe tbody tr th {\n",
       "        vertical-align: top;\n",
       "    }\n",
       "\n",
       "    .dataframe thead th {\n",
       "        text-align: right;\n",
       "    }\n",
       "</style>\n",
       "<table border=\"1\" class=\"dataframe\">\n",
       "  <thead>\n",
       "    <tr style=\"text-align: right;\">\n",
       "      <th></th>\n",
       "      <th>Возраст</th>\n",
       "      <th>Сумма</th>\n",
       "      <th>Визиты</th>\n",
       "      <th>К-во_услуг</th>\n",
       "      <th>Пол</th>\n",
       "      <th>Чек</th>\n",
       "    </tr>\n",
       "    <tr>\n",
       "      <th>insured</th>\n",
       "      <th></th>\n",
       "      <th></th>\n",
       "      <th></th>\n",
       "      <th></th>\n",
       "      <th></th>\n",
       "      <th></th>\n",
       "    </tr>\n",
       "  </thead>\n",
       "  <tbody>\n",
       "    <tr>\n",
       "      <th>125073</th>\n",
       "      <td>65</td>\n",
       "      <td>33080</td>\n",
       "      <td>15</td>\n",
       "      <td>27</td>\n",
       "      <td>2.00</td>\n",
       "      <td>2,205.33</td>\n",
       "    </tr>\n",
       "    <tr>\n",
       "      <th>125094</th>\n",
       "      <td>43</td>\n",
       "      <td>27519</td>\n",
       "      <td>7</td>\n",
       "      <td>20</td>\n",
       "      <td>2.00</td>\n",
       "      <td>3,931.29</td>\n",
       "    </tr>\n",
       "    <tr>\n",
       "      <th>125404</th>\n",
       "      <td>26</td>\n",
       "      <td>1470</td>\n",
       "      <td>1</td>\n",
       "      <td>1</td>\n",
       "      <td>1.00</td>\n",
       "      <td>1,470.00</td>\n",
       "    </tr>\n",
       "    <tr>\n",
       "      <th>139315</th>\n",
       "      <td>25</td>\n",
       "      <td>3300</td>\n",
       "      <td>1</td>\n",
       "      <td>3</td>\n",
       "      <td>1.00</td>\n",
       "      <td>3,300.00</td>\n",
       "    </tr>\n",
       "    <tr>\n",
       "      <th>139539</th>\n",
       "      <td>42</td>\n",
       "      <td>75239</td>\n",
       "      <td>19</td>\n",
       "      <td>56</td>\n",
       "      <td>2.00</td>\n",
       "      <td>3,959.95</td>\n",
       "    </tr>\n",
       "    <tr>\n",
       "      <th>...</th>\n",
       "      <td>...</td>\n",
       "      <td>...</td>\n",
       "      <td>...</td>\n",
       "      <td>...</td>\n",
       "      <td>...</td>\n",
       "      <td>...</td>\n",
       "    </tr>\n",
       "    <tr>\n",
       "      <th>1306765</th>\n",
       "      <td>32</td>\n",
       "      <td>15412</td>\n",
       "      <td>2</td>\n",
       "      <td>12</td>\n",
       "      <td>2.00</td>\n",
       "      <td>7,706.00</td>\n",
       "    </tr>\n",
       "    <tr>\n",
       "      <th>1306768</th>\n",
       "      <td>22</td>\n",
       "      <td>34237</td>\n",
       "      <td>5</td>\n",
       "      <td>36</td>\n",
       "      <td>2.00</td>\n",
       "      <td>6,847.40</td>\n",
       "    </tr>\n",
       "    <tr>\n",
       "      <th>1306775</th>\n",
       "      <td>37</td>\n",
       "      <td>40501</td>\n",
       "      <td>8</td>\n",
       "      <td>31</td>\n",
       "      <td>2.00</td>\n",
       "      <td>5,062.62</td>\n",
       "    </tr>\n",
       "    <tr>\n",
       "      <th>1306792</th>\n",
       "      <td>27</td>\n",
       "      <td>42042</td>\n",
       "      <td>12</td>\n",
       "      <td>37</td>\n",
       "      <td>2.00</td>\n",
       "      <td>3,503.50</td>\n",
       "    </tr>\n",
       "    <tr>\n",
       "      <th>1306795</th>\n",
       "      <td>31</td>\n",
       "      <td>30292</td>\n",
       "      <td>8</td>\n",
       "      <td>28</td>\n",
       "      <td>1.00</td>\n",
       "      <td>3,786.50</td>\n",
       "    </tr>\n",
       "  </tbody>\n",
       "</table>\n",
       "<p>4466 rows × 6 columns</p>\n",
       "</div>"
      ],
      "text/plain": [
       "         Возраст  Сумма  Визиты  К-во_услуг  Пол      Чек\n",
       "insured                                                  \n",
       "125073        65  33080      15          27 2.00 2,205.33\n",
       "125094        43  27519       7          20 2.00 3,931.29\n",
       "125404        26   1470       1           1 1.00 1,470.00\n",
       "139315        25   3300       1           3 1.00 3,300.00\n",
       "139539        42  75239      19          56 2.00 3,959.95\n",
       "...          ...    ...     ...         ...  ...      ...\n",
       "1306765       32  15412       2          12 2.00 7,706.00\n",
       "1306768       22  34237       5          36 2.00 6,847.40\n",
       "1306775       37  40501       8          31 2.00 5,062.62\n",
       "1306792       27  42042      12          37 2.00 3,503.50\n",
       "1306795       31  30292       8          28 1.00 3,786.50\n",
       "\n",
       "[4466 rows x 6 columns]"
      ]
     },
     "execution_count": 33,
     "metadata": {},
     "output_type": "execute_result"
    }
   ],
   "source": [
    "# профили пользователей \n",
    "users = df.pivot_table(index = 'insured',\n",
    "                       values = ['service_date',\n",
    "                                 'service_number',\n",
    "                                 'sex_id',\n",
    "                                 'age_for_service_date',\n",
    "                                 'service_amount'], \n",
    "                       aggfunc = {'service_date':'nunique',\n",
    "                                  'service_number':'sum',\n",
    "                                  'sex_id':'first',\n",
    "                                  'age_for_service_date':'min',\n",
    "                                  'service_amount':'sum'})\n",
    "\n",
    "users = users.rename(columns = {'age_for_service_date':'Возраст',\n",
    "                                'service_amount':'Сумма',\n",
    "                                'service_date':'Визиты',\n",
    "                                'service_number':'К-во_услуг',\n",
    "                                'sex_id':'Пол'})\n",
    "users['Чек'] = users['Сумма']/users['Визиты']\n",
    "users"
   ]
  },
  {
   "cell_type": "code",
   "execution_count": 34,
   "id": "b3364104",
   "metadata": {},
   "outputs": [
    {
     "name": "stdout",
     "output_type": "stream",
     "text": [
      "Таблица корреляции признаков профиля пациента\n"
     ]
    },
    {
     "data": {
      "text/html": [
       "<div>\n",
       "<style scoped>\n",
       "    .dataframe tbody tr th:only-of-type {\n",
       "        vertical-align: middle;\n",
       "    }\n",
       "\n",
       "    .dataframe tbody tr th {\n",
       "        vertical-align: top;\n",
       "    }\n",
       "\n",
       "    .dataframe thead th {\n",
       "        text-align: right;\n",
       "    }\n",
       "</style>\n",
       "<table border=\"1\" class=\"dataframe\">\n",
       "  <thead>\n",
       "    <tr style=\"text-align: right;\">\n",
       "      <th></th>\n",
       "      <th>Возраст</th>\n",
       "      <th>Сумма</th>\n",
       "      <th>Визиты</th>\n",
       "      <th>К-во_услуг</th>\n",
       "      <th>Пол</th>\n",
       "      <th>Чек</th>\n",
       "    </tr>\n",
       "  </thead>\n",
       "  <tbody>\n",
       "    <tr>\n",
       "      <th>Визиты</th>\n",
       "      <td>0.06</td>\n",
       "      <td>0.93</td>\n",
       "      <td>1.00</td>\n",
       "      <td>0.92</td>\n",
       "      <td>0.06</td>\n",
       "      <td>0.02</td>\n",
       "    </tr>\n",
       "    <tr>\n",
       "      <th>Пол</th>\n",
       "      <td>0.03</td>\n",
       "      <td>0.07</td>\n",
       "      <td>0.06</td>\n",
       "      <td>0.08</td>\n",
       "      <td>1.00</td>\n",
       "      <td>0.05</td>\n",
       "    </tr>\n",
       "    <tr>\n",
       "      <th>Возраст</th>\n",
       "      <td>1.00</td>\n",
       "      <td>0.12</td>\n",
       "      <td>0.06</td>\n",
       "      <td>0.12</td>\n",
       "      <td>0.03</td>\n",
       "      <td>0.14</td>\n",
       "    </tr>\n",
       "    <tr>\n",
       "      <th>Сумма</th>\n",
       "      <td>0.12</td>\n",
       "      <td>1.00</td>\n",
       "      <td>0.93</td>\n",
       "      <td>0.98</td>\n",
       "      <td>0.07</td>\n",
       "      <td>0.23</td>\n",
       "    </tr>\n",
       "    <tr>\n",
       "      <th>К-во_услуг</th>\n",
       "      <td>0.12</td>\n",
       "      <td>0.98</td>\n",
       "      <td>0.92</td>\n",
       "      <td>1.00</td>\n",
       "      <td>0.08</td>\n",
       "      <td>0.23</td>\n",
       "    </tr>\n",
       "    <tr>\n",
       "      <th>Чек</th>\n",
       "      <td>0.14</td>\n",
       "      <td>0.23</td>\n",
       "      <td>0.02</td>\n",
       "      <td>0.23</td>\n",
       "      <td>0.05</td>\n",
       "      <td>1.00</td>\n",
       "    </tr>\n",
       "  </tbody>\n",
       "</table>\n",
       "</div>"
      ],
      "text/plain": [
       "            Возраст  Сумма  Визиты  К-во_услуг  Пол  Чек\n",
       "Визиты         0.06   0.93    1.00        0.92 0.06 0.02\n",
       "Пол            0.03   0.07    0.06        0.08 1.00 0.05\n",
       "Возраст        1.00   0.12    0.06        0.12 0.03 0.14\n",
       "Сумма          0.12   1.00    0.93        0.98 0.07 0.23\n",
       "К-во_услуг     0.12   0.98    0.92        1.00 0.08 0.23\n",
       "Чек            0.14   0.23    0.02        0.23 0.05 1.00"
      ]
     },
     "execution_count": 34,
     "metadata": {},
     "output_type": "execute_result"
    }
   ],
   "source": [
    "# Корреляции дохода клиники от половозрастных признаков пациента\n",
    "print('Таблица корреляции признаков профиля пациента')\n",
    "users.corr().sort_values(['Чек'])"
   ]
  },
  {
   "cell_type": "markdown",
   "id": "cd657b1d",
   "metadata": {},
   "source": [
    "#### Количество принесенной клинике дохода очень слабо коррелирует с половозрастными признаками, сумма прибыли зависит от количества визитов в клинику."
   ]
  },
  {
   "cell_type": "markdown",
   "id": "d90d6976",
   "metadata": {},
   "source": [
    "#### Разобьем пациентов на возрастные группы: дошкольники, школьники, до 29 лет, 3030-40-40,41-50, 51-65, >65"
   ]
  },
  {
   "cell_type": "code",
   "execution_count": 35,
   "id": "1fc17568",
   "metadata": {},
   "outputs": [
    {
     "name": "stdout",
     "output_type": "stream",
     "text": [
      "Проверим разбивку по возрасту\n"
     ]
    },
    {
     "data": {
      "text/plain": [
       "sort_age\n",
       "18-29    1171\n",
       "30-40    1871\n",
       "41-50     651\n",
       "50-64     286\n",
       "65+        31\n",
       "<18       543\n",
       "Name: insured, dtype: int64"
      ]
     },
     "execution_count": 35,
     "metadata": {},
     "output_type": "execute_result"
    },
    {
     "data": {
      "text/plain": [
       "sex_id\n",
       "1.00    1926\n",
       "2.00    2540\n",
       "Name: insured, dtype: int64"
      ]
     },
     "execution_count": 35,
     "metadata": {},
     "output_type": "execute_result"
    }
   ],
   "source": [
    "def sort(age):\n",
    "    if age < 18:\n",
    "        return '<18'\n",
    "    elif age < 30:\n",
    "        return '18-29'\n",
    "    elif age <= 40:\n",
    "        return '30-40'\n",
    "    elif age < 50:\n",
    "        return '41-50'\n",
    "    elif age < 65:\n",
    "        return '50-64'\n",
    "    else:\n",
    "        return '65+'\n",
    "df['sort_age'] = df['age_for_service_date'].apply(sort)\n",
    "print('Проверим разбивку по возрасту')\n",
    "df.groupby(by='sort_age')['insured'].nunique()\n",
    "df.groupby(by='sex_id')['insured'].nunique()"
   ]
  },
  {
   "cell_type": "markdown",
   "id": "1c52a20a",
   "metadata": {},
   "source": [
    "#### Основной контингент 18-40 лет, взрослые трудоспособные люди чаще женщины\n",
    "#### Рассмотрим график пациентов по половозрастным признакам "
   ]
  },
  {
   "cell_type": "code",
   "execution_count": 36,
   "id": "f4e32d5d",
   "metadata": {},
   "outputs": [
    {
     "data": {
      "image/png": "[encoded data removed]",
      "text/plain": [
       "<Figure size 432x288 with 1 Axes>"
      ]
     },
     "metadata": {
      "needs_background": "light"
     },
     "output_type": "display_data"
    }
   ],
   "source": [
    "# построим диаграмму размаха пациентов по половозрастным признакам \n",
    "# в срезе скачков продаж в ноябрь-декабрь 2021 года и апрель-май 2022 годов\n",
    "\n",
    "df.pivot_table(index = 'mon_year',\n",
    "               columns = 'sex_id',\n",
    "               values = 'insured',\n",
    "               aggfunc = 'nunique').plot()\n",
    "plt.grid(True)\n",
    "plt.title('График количества уникальных пациентов в месяц по полу')\n",
    "plt.xlabel('Месяц')\n",
    "plt.ylabel('Количество пациентов')\n",
    "plt.show();"
   ]
  },
  {
   "cell_type": "code",
   "execution_count": 37,
   "id": "862d4e5c",
   "metadata": {},
   "outputs": [
    {
     "data": {
      "image/png": "[encoded data removed]",
      "text/plain": [
       "<Figure size 432x288 with 1 Axes>"
      ]
     },
     "metadata": {
      "needs_background": "light"
     },
     "output_type": "display_data"
    }
   ],
   "source": [
    "df.pivot_table(index = 'mon_year',\n",
    "               columns = 'sort_age',\n",
    "               values = 'insured',\n",
    "               aggfunc = 'nunique').plot()\n",
    "plt.grid(True)\n",
    "plt.title('График количества уникальных пациентов в месяц по возрасту')\n",
    "plt.xlabel('Месяц')\n",
    "plt.ylabel('Количество пациентов')\n",
    "plt.show();"
   ]
  },
  {
   "cell_type": "markdown",
   "id": "481a4486",
   "metadata": {},
   "source": [
    "#### Чаще других пользуются услугами клиники женщины и люди в возрастной категории 18-40 лет.\n",
    "#### Кривые активности пациентов повторяют друг друга во всплесках активности до февраля 2022 года\n",
    "#### Наплыв пациентов до 18 лет случился традиционно в сентябре 2021г а потом в апреле. \n",
    "#### Всплеск активности апреле - мая 2022 года обеспечен активностью лиц, в возрасте 30-40 лет, преимущественно женщин\n",
    "\n",
    "\n",
    "#### По итогам исследования вывод по гипотезам:\n",
    "    \n",
    "- Гипотеза 1: Скачки прибыли вызваны пациентами определенных половозрастных групп. Гипотеза подтвердилась - скачки вызваны поведением групп пациентов женского пола и пациентов возраста 30-40лет.\n",
    "- Гипотеза 2: Средняя стоимость обслуживания пациентов изменилась из-за изменения стоимости оказываемых услуг (раньше были дорогие услуги, теперь дешевые или наоборот) Гипотеза 2 подтвердилась - средняя стоимость лечения(средний чек) снизилась после увеличения стоимости услуг."
   ]
  },
  {
   "cell_type": "markdown",
   "id": "73bd89da",
   "metadata": {},
   "source": [
    "#### [-> Содержание](#sod)"
   ]
  },
  {
   "cell_type": "markdown",
   "id": "23266983",
   "metadata": {},
   "source": [
    "### Шаг 4. Выводы <a class=\"anchor\" id=\"sh4\"></a> "
   ]
  },
  {
   "cell_type": "markdown",
   "id": "4cc669f8",
   "metadata": {},
   "source": [
    "#### В клинике 772 уникальных услуг\n",
    "#### На 10 услуг стоимость менялась 4-5 раз за период исследованя, на 233 услуги стоимость не менялась вообще, для остальных менялась 2-3 раза\n",
    "\n",
    "\n",
    "#### Медиальный рост стоимости услуг происходил  в 2 основных этапа - октябрь-ноябрь 2021 года и июль-август 2022 года.\n",
    "\n",
    "#### На 11 услуг стоимость снижалась - вероятно были маркетинговые акции\n",
    "\n",
    "#### Клиника за период исследования увеличила свои доходы более чем в 2 раза, но с мая 2022 года доход начал падать. Активность пациентов в летний период падает и в 2021 году. Достатоно высокий коэфициэнт корреляции между приростом стоимости и приростом прибыли 0.59 не оправдывается на графиках: прирост стоимости услуг в октябре-ноябре 2021 и  в июне 2022 года вызвал снижение дохода. \n",
    "\n",
    "#### Средний чек в сравнении аналогичных периодов 2021 года и 2022 года:\n",
    "- средний чек в 2022 году вырос на 7.95% по сравнению с 2021 годом\n",
    "- в начале года средний чек рос до мая в 2021 году и до февраля в 2021 году\n",
    "- в 2021 году прибыль медленно росла до окрября, средний чек рос до мая, упала летом и потом восстанавливилась\n",
    "- в 2022 году прибыль до апреля росла, а потом падала - средний чек же упал уже в марте: делаем вывод о наплыве пациентов и небольшим средним чеком с марта по май. Возможно имела место акция с низкой стоимостью услуги, которая принесла прибыль благодаря большому количеству пациентов\n",
    "\n",
    "#### Услуги типа \"прием\",\"исследования\",\"физеотерапия\" испытали небольшой скачек прибыли в октябре 2021 года, услуги типа \"манипуляции\" и \"анализы\" не испытали изменений \n",
    "#### В апреле 2022 года резко (на 30%) выросли  суммы продаж по категориям \"прием\" и \"исследования\".\n",
    "\n",
    "#### Самые дешевые услуги оплачивают в 2 раза чаще, чем самые дорогие \n",
    "#### В марте 2021 года, вероятно, проводилась маркетинговая акция на только дешевые услуги, а в июле 2022 года -только на дорогие.  \n",
    "#### Есть прирост количества покупок услуг в октябре 2021 года и апреле 2022 года \n",
    "\n",
    "#### C начала года 2021 года наблюдаем ежемесячный рост обслуживаемых пациентов и небольшим спадом в летние месяцы.\n",
    "#### Рост количества пациентов в 2 раза к октябрю не за счет новых пациентов, вероятно, и вызвал рост цен в октябре и ноябре. Например, специалистов или помещений стало не хватать. Пришлось расширить пропускную способность клиники. Рост цен в ноябре на 5%  вызвал спад пациентов на 10% пациентов в декабре 2021 года. \n",
    "#### Посещения восстановились к марту 2022 года. Далее наметился резкий рост до апреля-мая 2022 года и такое же резкое снижение - в 2 раза к августу. Новый рост цен случился в июле 2022 года и вызвал спад активности пациентов на 15%, однако если сравнить июль в 2021 и в 2022 году  - количество пациентов выросло в 1,5 раза. \n",
    "#### Пик апреля 2022 года характеризуется более резким всплеском активности новых пользователей, это не сезонный фактор, скорее маркетинговая кампания или реакция людей на события в мире.\n",
    "\n",
    "#### Проводились акции, стимулирующие постоянных пациентов, а не привлекающие новых.\n",
    "\n",
    "#### Количество принесенной клинике дохода очень слабо коррелирует с половозрастными признаками, сумма прибыли зависит от количества визитов в клинику. Основной контингент 18-40 лет, взрослые трудоспособные люди чаще женщины\n",
    "\n",
    "#### Чаще других пользуются услугами клиники женщины и люди в возрастной категории 18-40 лет.\n",
    "#### Кривые активности пациентов повторяют друг друга во всплесках активности до февраля 2022 года\n",
    "#### Наплыв пациентов до 18 лет случился традиционно в сентябре 2021г а потом в апреле.\n",
    "#### Всплеск активности апреле - мая 2022 года обеспечен активностью лиц, в возрасте 30-40 лет, преимущественно женщин\n",
    "#### По итогам исследования вывод по гипотезам:\n",
    "- Гипотеза 1: Скачки прибыли вызваны пациентами определенных половозрастных групп. Гипотеза подтвердилась - скачки вызваны поведением групп пациентов женского пола и пациентов возраста 30-40лет.\n",
    "- Гипотеза 2: Средняя стоимость обслуживания пациентов изменилась из-за изменения стоимости оказываемых услуг (раньше были дорогие услуги, теперь дешевые или наоборот) Гипотеза 2 подтвердилась - средняя стоимость лечения(средний чек) снизилась после увеличения стоимости услуг.\n",
    "\n"
   ]
  },
  {
   "cell_type": "markdown",
   "id": "e19f27ac",
   "metadata": {},
   "source": [
    "Еще планирую добавить в исследование: услуги-пары, услуги по которым были акции"
   ]
  }
 ],
 "metadata": {
  "kernelspec": {
   "display_name": "Python 3 (ipykernel)",
   "language": "python",
   "name": "python3"
  },
  "language_info": {
   "codemirror_mode": {
    "name": "ipython",
    "version": 3
   },
   "file_extension": ".py",
   "mimetype": "text/x-python",
   "name": "python",
   "nbconvert_exporter": "python",
   "pygments_lexer": "ipython3",
   "version": "3.9.12"
  }
 },
 "nbformat": 4,
 "nbformat_minor": 5
}
